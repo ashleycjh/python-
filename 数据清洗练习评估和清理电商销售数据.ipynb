{
 "cells": [
  {
   "cell_type": "markdown",
   "metadata": {},
   "source": [
    "# 评估和清理英国电商公司销售数据"
   ]
  },
  {
   "cell_type": "markdown",
   "metadata": {},
   "source": [
    "## 分析目标"
   ]
  },
  {
   "cell_type": "markdown",
   "metadata": {},
   "source": [
    "此数据分析的目的是，根据市场销售数据，挖掘畅销产品，以便制定更有效的市场策略来提升营收。\n",
    "\n",
    "本实战项目的目的在于练习评估数据干净和整洁度，并且基于评估结果，对数据进行清洗，从而得到可供下一步分析的数据。"
   ]
  },
  {
   "cell_type": "markdown",
   "metadata": {},
   "source": [
    "## 简介"
   ]
  },
  {
   "cell_type": "markdown",
   "metadata": {},
   "source": [
    "原始数据集记录了一家英国在线零售公司在2010年12月1日至2011年12月9日期间的所有交易情况，涵盖了该公司在全球不同国家和地区的业务数据。该公司主要销售覆盖各个场景的礼品，包括但不限于生日礼品、结婚纪念品、圣诞礼品等等。该公司的客户群体主要包括批发商和个人消费者，其中批发商占据了相当大的比例。"
   ]
  },
  {
   "cell_type": "markdown",
   "metadata": {},
   "source": [
    "数据每列的含义如下：\n",
    "- `InvoiceNo`: 发票号码。6位数，作为交易的唯一标识符。如果这个代码以字母“c”开头，表示这笔交易被取消。\n",
    "- `StockCode`: 产品代码。5位数，作为产品的唯一标识符。\n",
    "- `Description`: 产品名称。\n",
    "- `Quantity`: 产品在交易中的数量。\n",
    "- `InvoiceDate`: 发票日期和时间。交易发生的日期和时间。\n",
    "- `UnitPrice`: 单价。价格单位为英镑（£）。\n",
    "- `CustomerID`: 客户编号。5位数，作为客户的唯一标识符。\n",
    "- `Country`: 国家名称。客户所居住的国家的名称。"
   ]
  },
  {
   "cell_type": "markdown",
   "metadata": {},
   "source": [
    " 导入需要的包"
   ]
  },
  {
   "cell_type": "code",
   "outputs": [],
   "source": [
    "import pandas as pd"
   ],
   "metadata": {
    "collapsed": false,
    "ExecuteTime": {
     "end_time": "2024-03-13T09:06:09.107396500Z",
     "start_time": "2024-03-13T09:06:08.209477Z"
    }
   },
   "execution_count": 68
  },
  {
   "cell_type": "code",
   "outputs": [],
   "source": [
    "import matplotlib.pyplot as plt"
   ],
   "metadata": {
    "collapsed": false,
    "ExecuteTime": {
     "end_time": "2024-03-13T09:06:09.634843300Z",
     "start_time": "2024-03-13T09:06:09.103395900Z"
    }
   },
   "execution_count": 69
  },
  {
   "cell_type": "markdown",
   "source": [
    "导入原始数据定义为orignal_data"
   ],
   "metadata": {
    "collapsed": false
   }
  },
  {
   "cell_type": "markdown",
   "source": [],
   "metadata": {
    "collapsed": false
   }
  },
  {
   "cell_type": "code",
   "execution_count": 70,
   "metadata": {
    "ExecuteTime": {
     "end_time": "2024-03-13T09:06:10.312963300Z",
     "start_time": "2024-03-13T09:06:09.635844600Z"
    }
   },
   "outputs": [],
   "source": [
    "orignal_data=pd.read_csv(\"e_commerce.csv\")"
   ]
  },
  {
   "cell_type": "code",
   "execution_count": 71,
   "metadata": {
    "ExecuteTime": {
     "end_time": "2024-03-13T09:06:10.361288700Z",
     "start_time": "2024-03-13T09:06:10.315104800Z"
    }
   },
   "outputs": [
    {
     "data": {
      "text/plain": "  InvoiceNo StockCode                          Description  Quantity  \\\n0    536365    85123A   WHITE HANGING HEART T-LIGHT HOLDER         6   \n1    536365     71053                  WHITE METAL LANTERN         6   \n2    536365    84406B       CREAM CUPID HEARTS COAT HANGER         8   \n3    536365    84029G  KNITTED UNION FLAG HOT WATER BOTTLE         6   \n4    536365    84029E       RED WOOLLY HOTTIE WHITE HEART.         6   \n\n      InvoiceDate  UnitPrice  CustomerID         Country  \n0  12/1/2010 8:26       2.55     17850.0  United Kingdom  \n1  12/1/2010 8:26       3.39     17850.0  United Kingdom  \n2  12/1/2010 8:26       2.75     17850.0  United Kingdom  \n3  12/1/2010 8:26       3.39     17850.0  United Kingdom  \n4  12/1/2010 8:26       3.39     17850.0  United Kingdom  ",
      "text/html": "<div>\n<style scoped>\n    .dataframe tbody tr th:only-of-type {\n        vertical-align: middle;\n    }\n\n    .dataframe tbody tr th {\n        vertical-align: top;\n    }\n\n    .dataframe thead th {\n        text-align: right;\n    }\n</style>\n<table border=\"1\" class=\"dataframe\">\n  <thead>\n    <tr style=\"text-align: right;\">\n      <th></th>\n      <th>InvoiceNo</th>\n      <th>StockCode</th>\n      <th>Description</th>\n      <th>Quantity</th>\n      <th>InvoiceDate</th>\n      <th>UnitPrice</th>\n      <th>CustomerID</th>\n      <th>Country</th>\n    </tr>\n  </thead>\n  <tbody>\n    <tr>\n      <th>0</th>\n      <td>536365</td>\n      <td>85123A</td>\n      <td>WHITE HANGING HEART T-LIGHT HOLDER</td>\n      <td>6</td>\n      <td>12/1/2010 8:26</td>\n      <td>2.55</td>\n      <td>17850.0</td>\n      <td>United Kingdom</td>\n    </tr>\n    <tr>\n      <th>1</th>\n      <td>536365</td>\n      <td>71053</td>\n      <td>WHITE METAL LANTERN</td>\n      <td>6</td>\n      <td>12/1/2010 8:26</td>\n      <td>3.39</td>\n      <td>17850.0</td>\n      <td>United Kingdom</td>\n    </tr>\n    <tr>\n      <th>2</th>\n      <td>536365</td>\n      <td>84406B</td>\n      <td>CREAM CUPID HEARTS COAT HANGER</td>\n      <td>8</td>\n      <td>12/1/2010 8:26</td>\n      <td>2.75</td>\n      <td>17850.0</td>\n      <td>United Kingdom</td>\n    </tr>\n    <tr>\n      <th>3</th>\n      <td>536365</td>\n      <td>84029G</td>\n      <td>KNITTED UNION FLAG HOT WATER BOTTLE</td>\n      <td>6</td>\n      <td>12/1/2010 8:26</td>\n      <td>3.39</td>\n      <td>17850.0</td>\n      <td>United Kingdom</td>\n    </tr>\n    <tr>\n      <th>4</th>\n      <td>536365</td>\n      <td>84029E</td>\n      <td>RED WOOLLY HOTTIE WHITE HEART.</td>\n      <td>6</td>\n      <td>12/1/2010 8:26</td>\n      <td>3.39</td>\n      <td>17850.0</td>\n      <td>United Kingdom</td>\n    </tr>\n  </tbody>\n</table>\n</div>"
     },
     "execution_count": 71,
     "metadata": {},
     "output_type": "execute_result"
    }
   ],
   "source": [
    "orignal_data.head()"
   ]
  },
  {
   "cell_type": "markdown",
   "source": [
    "## 数据评估"
   ],
   "metadata": {
    "collapsed": false
   }
  },
  {
   "cell_type": "markdown",
   "source": [
    "### 抽样观察（先抽取20份作为样本观察）"
   ],
   "metadata": {
    "collapsed": false
   }
  },
  {
   "cell_type": "code",
   "outputs": [
    {
     "data": {
      "text/plain": "       InvoiceNo StockCode                         Description  Quantity  \\\n124418    546977     21116                        OWL DOORSTOP         1   \n72414    C542245     22380                 TOY TIDY SPACEBOY          -1   \n508976    579286     23102      SILVER HEARTS TABLE DECORATION         1   \n146301    548984    85049C             ROMANTIC PINKS RIBBONS          1   \n522249    580393    72351A  SET/6 TURQUOISE BUTTERFLY T-LIGHTS        12   \n7331      537034     22738           RIBBON REEL SNOWY VILLAGE        10   \n386364    570232    84030E       ENGLISH ROSE HOT WATER BOTTLE         2   \n331180    565994     37500         TEA TIME TEAPOT IN GIFT BOX         1   \n485825    577689     22945      CHRISTMAS METAL TAGS ASSORTED         12   \n290924    562420     22419                    LIPSTICK PEN RED        50   \n300099    563193     22139    RETROSPOT TEA SET CERAMIC 11 PC          1   \n278583    561217     21716     BOYS VINTAGE TIN SEASIDE BUCKET         2   \n74602     542503     35653               VINTAGE BEAD NOTEBOOK         6   \n345763    567179    47590B         PINK HAPPY BIRTHDAY BUNTING         2   \n432551    573876     22231          JIGSAW TREE WITH BIRDHOUSE         5   \n48461     540468     22342          HOME GARLAND PAINTED ZINC          2   \n319129    564840     23352       ROLL WRAP 50'S RED CHRISTMAS          3   \n410764    572129     82551              LAUNDRY 15C METAL SIGN        12   \n247224    558760    85123A  WHITE HANGING HEART T-LIGHT HOLDER         6   \n406931    571840     22952     60 CAKE CASES VINTAGE CHRISTMAS        24   \n\n             InvoiceDate  UnitPrice  CustomerID         Country  \n124418   3/18/2011 12:08       8.29         NaN  United Kingdom  \n72414    1/26/2011 15:06       2.10     13098.0  United Kingdom  \n508976  11/29/2011 10:57       0.83     17772.0  United Kingdom  \n146301    4/5/2011 12:37       1.25     14546.0  United Kingdom  \n522249   12/4/2011 10:51       2.10     16438.0  United Kingdom  \n7331     12/3/2010 17:20       1.65     13081.0  United Kingdom  \n386364   10/9/2011 13:58       4.25     14040.0  United Kingdom  \n331180    9/8/2011 11:46       4.95     13244.0  United Kingdom  \n485825  11/21/2011 11:29       0.85     17664.0  United Kingdom  \n290924    8/4/2011 16:38       0.83         NaN  United Kingdom  \n300099   8/12/2011 16:30      10.79         NaN  United Kingdom  \n278583   7/25/2011 17:09       4.96         NaN  United Kingdom  \n74602    1/28/2011 11:58       2.95     16327.0  United Kingdom  \n345763   9/18/2011 14:27       5.45     15547.0  United Kingdom  \n432551   11/1/2011 12:48       0.59     16360.0  United Kingdom  \n48461     1/7/2011 13:55       1.66         NaN  United Kingdom  \n319129   8/30/2011 12:49       2.46         NaN  United Kingdom  \n410764   10/21/2011 9:25       1.45     17528.0  United Kingdom  \n247224    7/3/2011 12:38       2.95     16918.0  United Kingdom  \n406931  10/19/2011 12:16       0.55     13590.0  United Kingdom  ",
      "text/html": "<div>\n<style scoped>\n    .dataframe tbody tr th:only-of-type {\n        vertical-align: middle;\n    }\n\n    .dataframe tbody tr th {\n        vertical-align: top;\n    }\n\n    .dataframe thead th {\n        text-align: right;\n    }\n</style>\n<table border=\"1\" class=\"dataframe\">\n  <thead>\n    <tr style=\"text-align: right;\">\n      <th></th>\n      <th>InvoiceNo</th>\n      <th>StockCode</th>\n      <th>Description</th>\n      <th>Quantity</th>\n      <th>InvoiceDate</th>\n      <th>UnitPrice</th>\n      <th>CustomerID</th>\n      <th>Country</th>\n    </tr>\n  </thead>\n  <tbody>\n    <tr>\n      <th>124418</th>\n      <td>546977</td>\n      <td>21116</td>\n      <td>OWL DOORSTOP</td>\n      <td>1</td>\n      <td>3/18/2011 12:08</td>\n      <td>8.29</td>\n      <td>NaN</td>\n      <td>United Kingdom</td>\n    </tr>\n    <tr>\n      <th>72414</th>\n      <td>C542245</td>\n      <td>22380</td>\n      <td>TOY TIDY SPACEBOY</td>\n      <td>-1</td>\n      <td>1/26/2011 15:06</td>\n      <td>2.10</td>\n      <td>13098.0</td>\n      <td>United Kingdom</td>\n    </tr>\n    <tr>\n      <th>508976</th>\n      <td>579286</td>\n      <td>23102</td>\n      <td>SILVER HEARTS TABLE DECORATION</td>\n      <td>1</td>\n      <td>11/29/2011 10:57</td>\n      <td>0.83</td>\n      <td>17772.0</td>\n      <td>United Kingdom</td>\n    </tr>\n    <tr>\n      <th>146301</th>\n      <td>548984</td>\n      <td>85049C</td>\n      <td>ROMANTIC PINKS RIBBONS</td>\n      <td>1</td>\n      <td>4/5/2011 12:37</td>\n      <td>1.25</td>\n      <td>14546.0</td>\n      <td>United Kingdom</td>\n    </tr>\n    <tr>\n      <th>522249</th>\n      <td>580393</td>\n      <td>72351A</td>\n      <td>SET/6 TURQUOISE BUTTERFLY T-LIGHTS</td>\n      <td>12</td>\n      <td>12/4/2011 10:51</td>\n      <td>2.10</td>\n      <td>16438.0</td>\n      <td>United Kingdom</td>\n    </tr>\n    <tr>\n      <th>7331</th>\n      <td>537034</td>\n      <td>22738</td>\n      <td>RIBBON REEL SNOWY VILLAGE</td>\n      <td>10</td>\n      <td>12/3/2010 17:20</td>\n      <td>1.65</td>\n      <td>13081.0</td>\n      <td>United Kingdom</td>\n    </tr>\n    <tr>\n      <th>386364</th>\n      <td>570232</td>\n      <td>84030E</td>\n      <td>ENGLISH ROSE HOT WATER BOTTLE</td>\n      <td>2</td>\n      <td>10/9/2011 13:58</td>\n      <td>4.25</td>\n      <td>14040.0</td>\n      <td>United Kingdom</td>\n    </tr>\n    <tr>\n      <th>331180</th>\n      <td>565994</td>\n      <td>37500</td>\n      <td>TEA TIME TEAPOT IN GIFT BOX</td>\n      <td>1</td>\n      <td>9/8/2011 11:46</td>\n      <td>4.95</td>\n      <td>13244.0</td>\n      <td>United Kingdom</td>\n    </tr>\n    <tr>\n      <th>485825</th>\n      <td>577689</td>\n      <td>22945</td>\n      <td>CHRISTMAS METAL TAGS ASSORTED</td>\n      <td>12</td>\n      <td>11/21/2011 11:29</td>\n      <td>0.85</td>\n      <td>17664.0</td>\n      <td>United Kingdom</td>\n    </tr>\n    <tr>\n      <th>290924</th>\n      <td>562420</td>\n      <td>22419</td>\n      <td>LIPSTICK PEN RED</td>\n      <td>50</td>\n      <td>8/4/2011 16:38</td>\n      <td>0.83</td>\n      <td>NaN</td>\n      <td>United Kingdom</td>\n    </tr>\n    <tr>\n      <th>300099</th>\n      <td>563193</td>\n      <td>22139</td>\n      <td>RETROSPOT TEA SET CERAMIC 11 PC</td>\n      <td>1</td>\n      <td>8/12/2011 16:30</td>\n      <td>10.79</td>\n      <td>NaN</td>\n      <td>United Kingdom</td>\n    </tr>\n    <tr>\n      <th>278583</th>\n      <td>561217</td>\n      <td>21716</td>\n      <td>BOYS VINTAGE TIN SEASIDE BUCKET</td>\n      <td>2</td>\n      <td>7/25/2011 17:09</td>\n      <td>4.96</td>\n      <td>NaN</td>\n      <td>United Kingdom</td>\n    </tr>\n    <tr>\n      <th>74602</th>\n      <td>542503</td>\n      <td>35653</td>\n      <td>VINTAGE BEAD NOTEBOOK</td>\n      <td>6</td>\n      <td>1/28/2011 11:58</td>\n      <td>2.95</td>\n      <td>16327.0</td>\n      <td>United Kingdom</td>\n    </tr>\n    <tr>\n      <th>345763</th>\n      <td>567179</td>\n      <td>47590B</td>\n      <td>PINK HAPPY BIRTHDAY BUNTING</td>\n      <td>2</td>\n      <td>9/18/2011 14:27</td>\n      <td>5.45</td>\n      <td>15547.0</td>\n      <td>United Kingdom</td>\n    </tr>\n    <tr>\n      <th>432551</th>\n      <td>573876</td>\n      <td>22231</td>\n      <td>JIGSAW TREE WITH BIRDHOUSE</td>\n      <td>5</td>\n      <td>11/1/2011 12:48</td>\n      <td>0.59</td>\n      <td>16360.0</td>\n      <td>United Kingdom</td>\n    </tr>\n    <tr>\n      <th>48461</th>\n      <td>540468</td>\n      <td>22342</td>\n      <td>HOME GARLAND PAINTED ZINC</td>\n      <td>2</td>\n      <td>1/7/2011 13:55</td>\n      <td>1.66</td>\n      <td>NaN</td>\n      <td>United Kingdom</td>\n    </tr>\n    <tr>\n      <th>319129</th>\n      <td>564840</td>\n      <td>23352</td>\n      <td>ROLL WRAP 50'S RED CHRISTMAS</td>\n      <td>3</td>\n      <td>8/30/2011 12:49</td>\n      <td>2.46</td>\n      <td>NaN</td>\n      <td>United Kingdom</td>\n    </tr>\n    <tr>\n      <th>410764</th>\n      <td>572129</td>\n      <td>82551</td>\n      <td>LAUNDRY 15C METAL SIGN</td>\n      <td>12</td>\n      <td>10/21/2011 9:25</td>\n      <td>1.45</td>\n      <td>17528.0</td>\n      <td>United Kingdom</td>\n    </tr>\n    <tr>\n      <th>247224</th>\n      <td>558760</td>\n      <td>85123A</td>\n      <td>WHITE HANGING HEART T-LIGHT HOLDER</td>\n      <td>6</td>\n      <td>7/3/2011 12:38</td>\n      <td>2.95</td>\n      <td>16918.0</td>\n      <td>United Kingdom</td>\n    </tr>\n    <tr>\n      <th>406931</th>\n      <td>571840</td>\n      <td>22952</td>\n      <td>60 CAKE CASES VINTAGE CHRISTMAS</td>\n      <td>24</td>\n      <td>10/19/2011 12:16</td>\n      <td>0.55</td>\n      <td>13590.0</td>\n      <td>United Kingdom</td>\n    </tr>\n  </tbody>\n</table>\n</div>"
     },
     "execution_count": 72,
     "metadata": {},
     "output_type": "execute_result"
    }
   ],
   "source": [
    "orignal_data.sample(20)"
   ],
   "metadata": {
    "collapsed": false,
    "ExecuteTime": {
     "end_time": "2024-03-13T09:06:10.456185800Z",
     "start_time": "2024-03-13T09:06:10.338925800Z"
    }
   },
   "execution_count": 72
  },
  {
   "cell_type": "code",
   "outputs": [
    {
     "name": "stdout",
     "output_type": "stream",
     "text": [
      "<class 'pandas.core.frame.DataFrame'>\n",
      "RangeIndex: 541909 entries, 0 to 541908\n",
      "Data columns (total 8 columns):\n",
      " #   Column       Non-Null Count   Dtype  \n",
      "---  ------       --------------   -----  \n",
      " 0   InvoiceNo    541909 non-null  object \n",
      " 1   StockCode    541909 non-null  object \n",
      " 2   Description  540455 non-null  object \n",
      " 3   Quantity     541909 non-null  int64  \n",
      " 4   InvoiceDate  541909 non-null  object \n",
      " 5   UnitPrice    541909 non-null  float64\n",
      " 6   CustomerID   406829 non-null  float64\n",
      " 7   Country      541909 non-null  object \n",
      "dtypes: float64(2), int64(1), object(5)\n",
      "memory usage: 33.1+ MB\n"
     ]
    }
   ],
   "source": [
    "orignal_data.info()"
   ],
   "metadata": {
    "collapsed": false,
    "ExecuteTime": {
     "end_time": "2024-03-13T09:06:10.665770800Z",
     "start_time": "2024-03-13T09:06:10.390130200Z"
    }
   },
   "execution_count": 73
  },
  {
   "cell_type": "markdown",
   "source": [
    "#### 数据一共有541909行，其中Description和CustomerID有缺失。invoicedata和customer ID数据类型有问题。"
   ],
   "metadata": {
    "collapsed": false
   }
  },
  {
   "cell_type": "markdown",
   "source": [
    "### 评估缺失数据"
   ],
   "metadata": {
    "collapsed": false
   }
  },
  {
   "cell_type": "markdown",
   "source": [
    "了解Description缺失数据的具体情况"
   ],
   "metadata": {
    "collapsed": false
   }
  },
  {
   "cell_type": "markdown",
   "source": [
    "观察发现Description缺失的数据UnitPrice都为0，验证猜想增加条件看是否有数据在Description缺失时UnitPrice不为0."
   ],
   "metadata": {
    "collapsed": false
   }
  },
  {
   "cell_type": "code",
   "outputs": [
    {
     "data": {
      "text/plain": "Empty DataFrame\nColumns: [InvoiceNo, StockCode, Description, Quantity, InvoiceDate, UnitPrice, CustomerID, Country]\nIndex: []",
      "text/html": "<div>\n<style scoped>\n    .dataframe tbody tr th:only-of-type {\n        vertical-align: middle;\n    }\n\n    .dataframe tbody tr th {\n        vertical-align: top;\n    }\n\n    .dataframe thead th {\n        text-align: right;\n    }\n</style>\n<table border=\"1\" class=\"dataframe\">\n  <thead>\n    <tr style=\"text-align: right;\">\n      <th></th>\n      <th>InvoiceNo</th>\n      <th>StockCode</th>\n      <th>Description</th>\n      <th>Quantity</th>\n      <th>InvoiceDate</th>\n      <th>UnitPrice</th>\n      <th>CustomerID</th>\n      <th>Country</th>\n    </tr>\n  </thead>\n  <tbody>\n  </tbody>\n</table>\n</div>"
     },
     "execution_count": 101,
     "metadata": {},
     "output_type": "execute_result"
    }
   ],
   "source": [
    "orignal_data[(orignal_data[\"Description\"].isnull())&(orignal_data[\"UnitPrice\"]!=0)]"
   ],
   "metadata": {
    "collapsed": false,
    "ExecuteTime": {
     "end_time": "2024-03-13T09:08:01.119309700Z",
     "start_time": "2024-03-13T09:08:01.015423Z"
    }
   },
   "execution_count": 101
  },
  {
   "cell_type": "markdown",
   "source": [
    "结论：根据目标要求根据市场销售数据，挖掘畅销产品，以便制定更有效的市场策略来提升营收。根据检索结果发现Description缺失时UnitPrice同时为0。\n",
    "其中Description为商品名称，UnitPrice为单价，都是重要的评估值，所以在根据目标分析时应该删除掉这些干扰信息。"
   ],
   "metadata": {
    "collapsed": false
   }
  },
  {
   "cell_type": "markdown",
   "source": [
    "重复操作对CustomerID有缺失的值进行分析"
   ],
   "metadata": {
    "collapsed": false
   }
  },
  {
   "cell_type": "code",
   "outputs": [
    {
     "data": {
      "text/plain": "       InvoiceNo StockCode                      Description  Quantity  \\\n622       536414     22139                              NaN        56   \n1443      536544     21773  DECORATIVE ROSE BATHROOM BOTTLE         1   \n1444      536544     21774  DECORATIVE CATS BATHROOM BOTTLE         2   \n1445      536544     21786               POLKADOT RAIN HAT          4   \n1446      536544     21787            RAIN PONCHO RETROSPOT         2   \n...          ...       ...                              ...       ...   \n541536    581498    85099B          JUMBO BAG RED RETROSPOT         5   \n541537    581498    85099C   JUMBO  BAG BAROQUE BLACK WHITE         4   \n541538    581498     85150    LADIES & GENTLEMEN METAL SIGN         1   \n541539    581498     85174                S/4 CACTI CANDLES         1   \n541540    581498       DOT                   DOTCOM POSTAGE         1   \n\n            InvoiceDate  UnitPrice  CustomerID         Country  \n622     12/1/2010 11:52       0.00         NaN  United Kingdom  \n1443    12/1/2010 14:32       2.51         NaN  United Kingdom  \n1444    12/1/2010 14:32       2.51         NaN  United Kingdom  \n1445    12/1/2010 14:32       0.85         NaN  United Kingdom  \n1446    12/1/2010 14:32       1.66         NaN  United Kingdom  \n...                 ...        ...         ...             ...  \n541536  12/9/2011 10:26       4.13         NaN  United Kingdom  \n541537  12/9/2011 10:26       4.13         NaN  United Kingdom  \n541538  12/9/2011 10:26       4.96         NaN  United Kingdom  \n541539  12/9/2011 10:26      10.79         NaN  United Kingdom  \n541540  12/9/2011 10:26    1714.17         NaN  United Kingdom  \n\n[135080 rows x 8 columns]",
      "text/html": "<div>\n<style scoped>\n    .dataframe tbody tr th:only-of-type {\n        vertical-align: middle;\n    }\n\n    .dataframe tbody tr th {\n        vertical-align: top;\n    }\n\n    .dataframe thead th {\n        text-align: right;\n    }\n</style>\n<table border=\"1\" class=\"dataframe\">\n  <thead>\n    <tr style=\"text-align: right;\">\n      <th></th>\n      <th>InvoiceNo</th>\n      <th>StockCode</th>\n      <th>Description</th>\n      <th>Quantity</th>\n      <th>InvoiceDate</th>\n      <th>UnitPrice</th>\n      <th>CustomerID</th>\n      <th>Country</th>\n    </tr>\n  </thead>\n  <tbody>\n    <tr>\n      <th>622</th>\n      <td>536414</td>\n      <td>22139</td>\n      <td>NaN</td>\n      <td>56</td>\n      <td>12/1/2010 11:52</td>\n      <td>0.00</td>\n      <td>NaN</td>\n      <td>United Kingdom</td>\n    </tr>\n    <tr>\n      <th>1443</th>\n      <td>536544</td>\n      <td>21773</td>\n      <td>DECORATIVE ROSE BATHROOM BOTTLE</td>\n      <td>1</td>\n      <td>12/1/2010 14:32</td>\n      <td>2.51</td>\n      <td>NaN</td>\n      <td>United Kingdom</td>\n    </tr>\n    <tr>\n      <th>1444</th>\n      <td>536544</td>\n      <td>21774</td>\n      <td>DECORATIVE CATS BATHROOM BOTTLE</td>\n      <td>2</td>\n      <td>12/1/2010 14:32</td>\n      <td>2.51</td>\n      <td>NaN</td>\n      <td>United Kingdom</td>\n    </tr>\n    <tr>\n      <th>1445</th>\n      <td>536544</td>\n      <td>21786</td>\n      <td>POLKADOT RAIN HAT</td>\n      <td>4</td>\n      <td>12/1/2010 14:32</td>\n      <td>0.85</td>\n      <td>NaN</td>\n      <td>United Kingdom</td>\n    </tr>\n    <tr>\n      <th>1446</th>\n      <td>536544</td>\n      <td>21787</td>\n      <td>RAIN PONCHO RETROSPOT</td>\n      <td>2</td>\n      <td>12/1/2010 14:32</td>\n      <td>1.66</td>\n      <td>NaN</td>\n      <td>United Kingdom</td>\n    </tr>\n    <tr>\n      <th>...</th>\n      <td>...</td>\n      <td>...</td>\n      <td>...</td>\n      <td>...</td>\n      <td>...</td>\n      <td>...</td>\n      <td>...</td>\n      <td>...</td>\n    </tr>\n    <tr>\n      <th>541536</th>\n      <td>581498</td>\n      <td>85099B</td>\n      <td>JUMBO BAG RED RETROSPOT</td>\n      <td>5</td>\n      <td>12/9/2011 10:26</td>\n      <td>4.13</td>\n      <td>NaN</td>\n      <td>United Kingdom</td>\n    </tr>\n    <tr>\n      <th>541537</th>\n      <td>581498</td>\n      <td>85099C</td>\n      <td>JUMBO  BAG BAROQUE BLACK WHITE</td>\n      <td>4</td>\n      <td>12/9/2011 10:26</td>\n      <td>4.13</td>\n      <td>NaN</td>\n      <td>United Kingdom</td>\n    </tr>\n    <tr>\n      <th>541538</th>\n      <td>581498</td>\n      <td>85150</td>\n      <td>LADIES &amp; GENTLEMEN METAL SIGN</td>\n      <td>1</td>\n      <td>12/9/2011 10:26</td>\n      <td>4.96</td>\n      <td>NaN</td>\n      <td>United Kingdom</td>\n    </tr>\n    <tr>\n      <th>541539</th>\n      <td>581498</td>\n      <td>85174</td>\n      <td>S/4 CACTI CANDLES</td>\n      <td>1</td>\n      <td>12/9/2011 10:26</td>\n      <td>10.79</td>\n      <td>NaN</td>\n      <td>United Kingdom</td>\n    </tr>\n    <tr>\n      <th>541540</th>\n      <td>581498</td>\n      <td>DOT</td>\n      <td>DOTCOM POSTAGE</td>\n      <td>1</td>\n      <td>12/9/2011 10:26</td>\n      <td>1714.17</td>\n      <td>NaN</td>\n      <td>United Kingdom</td>\n    </tr>\n  </tbody>\n</table>\n<p>135080 rows × 8 columns</p>\n</div>"
     },
     "execution_count": 75,
     "metadata": {},
     "output_type": "execute_result"
    }
   ],
   "source": [
    "orignal_data[orignal_data[\"CustomerID\"].isnull()]"
   ],
   "metadata": {
    "collapsed": false,
    "ExecuteTime": {
     "end_time": "2024-03-13T09:06:10.798539700Z",
     "start_time": "2024-03-13T09:06:10.601256500Z"
    }
   },
   "execution_count": 75
  },
  {
   "cell_type": "markdown",
   "source": [
    "通过观察在CustomerID缺失的数据中其他数据基本正常，不影响之后分析，所以保留该数据。"
   ],
   "metadata": {
    "collapsed": false
   }
  },
  {
   "cell_type": "markdown",
   "source": [
    "### 评估重复数据"
   ],
   "metadata": {
    "collapsed": false
   }
  },
  {
   "cell_type": "markdown",
   "source": [
    "首先我知道InvoiceNo: 发票号码，StockCode产品代码和CustomerID用户编号都是唯一标识符。所以对其进行重复数据评估。\n",
    "但通过数据本身特点，因为同一次交易可以买多件不同商品，所以InvoiceNo可以重复，StockCode产品代码和CustomerID在本次数据集中允许重复，因此无需对数据进行重复评估。"
   ],
   "metadata": {
    "collapsed": false
   }
  },
  {
   "cell_type": "markdown",
   "source": [
    "### 评估不一致数据"
   ],
   "metadata": {
    "collapsed": false
   }
  },
  {
   "cell_type": "markdown",
   "source": [
    "在对数据集数据充分了解下可以进行，特别在同一标签可以有不同叫法名称的情况，例如本集中的Country可以检查是否有多个指代同一个国家的情况。"
   ],
   "metadata": {
    "collapsed": false
   }
  },
  {
   "cell_type": "markdown",
   "source": [
    "下面提取统计Country的各种标签以及个数"
   ],
   "metadata": {
    "collapsed": false
   }
  },
  {
   "cell_type": "code",
   "outputs": [
    {
     "data": {
      "text/plain": "Country\nUnited Kingdom          495266\nGermany                   9495\nFrance                    8557\nEIRE                      8196\nSpain                     2533\nNetherlands               2371\nBelgium                   2069\nSwitzerland               2002\nPortugal                  1519\nAustralia                 1259\nNorway                    1086\nItaly                      803\nChannel Islands            758\nFinland                    695\nCyprus                     622\nSweden                     462\nUnspecified                446\nAustria                    401\nDenmark                    389\nJapan                      358\nPoland                     341\nIsrael                     297\nChina                      288\nSingapore                  229\nUSA                        218\nUK                         211\nIceland                    182\nCanada                     151\nGreece                     146\nMalta                      127\nUnited States               73\nUnited Arab Emirates        68\nEuropean Community          61\nRSA                         58\nLebanon                     45\nLithuania                   35\nBrazil                      32\nCzech Republic              30\nBahrain                     19\nSaudi Arabia                10\nU.K.                         1\nName: count, dtype: int64"
     },
     "execution_count": 76,
     "metadata": {},
     "output_type": "execute_result"
    }
   ],
   "source": [
    "orignal_data[\"Country\"].value_counts()"
   ],
   "metadata": {
    "collapsed": false,
    "ExecuteTime": {
     "end_time": "2024-03-13T09:06:10.873540500Z",
     "start_time": "2024-03-13T09:06:10.669769100Z"
    }
   },
   "execution_count": 76
  },
  {
   "cell_type": "markdown",
   "source": [],
   "metadata": {
    "collapsed": false
   }
  },
  {
   "cell_type": "markdown",
   "source": [
    "通过观察发现United Kingdom，UK，U.K.这三个标签都是表示的英国，United States和USA都表示的是美国存在重复。所以需要对数据进行处理。"
   ],
   "metadata": {
    "collapsed": false
   }
  },
  {
   "cell_type": "markdown",
   "source": [
    "### 对这两种类别的数据进行统合"
   ],
   "metadata": {
    "collapsed": false
   }
  },
  {
   "cell_type": "markdown",
   "source": [
    "## 评估无效和错误数据"
   ],
   "metadata": {
    "collapsed": false
   }
  },
  {
   "cell_type": "code",
   "outputs": [
    {
     "data": {
      "text/plain": "            Quantity      UnitPrice     CustomerID\ncount  541909.000000  541909.000000  406829.000000\nmean        9.552250       4.611114   15287.690570\nstd       218.081158      96.759853    1713.600303\nmin    -80995.000000  -11062.060000   12346.000000\n25%         1.000000       1.250000   13953.000000\n50%         3.000000       2.080000   15152.000000\n75%        10.000000       4.130000   16791.000000\nmax     80995.000000   38970.000000   18287.000000",
      "text/html": "<div>\n<style scoped>\n    .dataframe tbody tr th:only-of-type {\n        vertical-align: middle;\n    }\n\n    .dataframe tbody tr th {\n        vertical-align: top;\n    }\n\n    .dataframe thead th {\n        text-align: right;\n    }\n</style>\n<table border=\"1\" class=\"dataframe\">\n  <thead>\n    <tr style=\"text-align: right;\">\n      <th></th>\n      <th>Quantity</th>\n      <th>UnitPrice</th>\n      <th>CustomerID</th>\n    </tr>\n  </thead>\n  <tbody>\n    <tr>\n      <th>count</th>\n      <td>541909.000000</td>\n      <td>541909.000000</td>\n      <td>406829.000000</td>\n    </tr>\n    <tr>\n      <th>mean</th>\n      <td>9.552250</td>\n      <td>4.611114</td>\n      <td>15287.690570</td>\n    </tr>\n    <tr>\n      <th>std</th>\n      <td>218.081158</td>\n      <td>96.759853</td>\n      <td>1713.600303</td>\n    </tr>\n    <tr>\n      <th>min</th>\n      <td>-80995.000000</td>\n      <td>-11062.060000</td>\n      <td>12346.000000</td>\n    </tr>\n    <tr>\n      <th>25%</th>\n      <td>1.000000</td>\n      <td>1.250000</td>\n      <td>13953.000000</td>\n    </tr>\n    <tr>\n      <th>50%</th>\n      <td>3.000000</td>\n      <td>2.080000</td>\n      <td>15152.000000</td>\n    </tr>\n    <tr>\n      <th>75%</th>\n      <td>10.000000</td>\n      <td>4.130000</td>\n      <td>16791.000000</td>\n    </tr>\n    <tr>\n      <th>max</th>\n      <td>80995.000000</td>\n      <td>38970.000000</td>\n      <td>18287.000000</td>\n    </tr>\n  </tbody>\n</table>\n</div>"
     },
     "execution_count": 77,
     "metadata": {},
     "output_type": "execute_result"
    }
   ],
   "source": [
    "orignal_data.describe()"
   ],
   "metadata": {
    "collapsed": false,
    "ExecuteTime": {
     "end_time": "2024-03-13T09:06:10.937538300Z",
     "start_time": "2024-03-13T09:06:10.676645800Z"
    }
   },
   "execution_count": 77
  },
  {
   "cell_type": "markdown",
   "source": [
    "观察发现Quantity数量和Unitprice单价存在负数，和实际意义不符合，首先筛选出这些数据分析其原因"
   ],
   "metadata": {
    "collapsed": false
   }
  },
  {
   "cell_type": "code",
   "outputs": [
    {
     "data": {
      "text/plain": "       InvoiceNo StockCode                       Description  Quantity  \\\n141      C536379         D                          Discount        -1   \n154      C536383    35004C   SET OF 3 COLOURED  FLYING DUCKS        -1   \n235      C536391     22556    PLASTERS IN TIN CIRCUS PARADE        -12   \n236      C536391     21984  PACK OF 12 PINK PAISLEY TISSUES        -24   \n237      C536391     21983  PACK OF 12 BLUE PAISLEY TISSUES        -24   \n...          ...       ...                               ...       ...   \n540449   C581490     23144   ZINC T-LIGHT HOLDER STARS SMALL       -11   \n541541   C581499         M                            Manual        -1   \n541715   C581568     21258        VICTORIAN SEWING BOX LARGE        -5   \n541716   C581569     84978  HANGING HEART JAR T-LIGHT HOLDER        -1   \n541717   C581569     20979     36 PENCILS TUBE RED RETROSPOT        -5   \n\n            InvoiceDate  UnitPrice  CustomerID         Country  \n141      12/1/2010 9:41      27.50     14527.0  United Kingdom  \n154      12/1/2010 9:49       4.65     15311.0  United Kingdom  \n235     12/1/2010 10:24       1.65     17548.0  United Kingdom  \n236     12/1/2010 10:24       0.29     17548.0  United Kingdom  \n237     12/1/2010 10:24       0.29     17548.0  United Kingdom  \n...                 ...        ...         ...             ...  \n540449   12/9/2011 9:57       0.83     14397.0  United Kingdom  \n541541  12/9/2011 10:28     224.69     15498.0  United Kingdom  \n541715  12/9/2011 11:57      10.95     15311.0  United Kingdom  \n541716  12/9/2011 11:58       1.25     17315.0  United Kingdom  \n541717  12/9/2011 11:58       1.25     17315.0  United Kingdom  \n\n[10624 rows x 8 columns]",
      "text/html": "<div>\n<style scoped>\n    .dataframe tbody tr th:only-of-type {\n        vertical-align: middle;\n    }\n\n    .dataframe tbody tr th {\n        vertical-align: top;\n    }\n\n    .dataframe thead th {\n        text-align: right;\n    }\n</style>\n<table border=\"1\" class=\"dataframe\">\n  <thead>\n    <tr style=\"text-align: right;\">\n      <th></th>\n      <th>InvoiceNo</th>\n      <th>StockCode</th>\n      <th>Description</th>\n      <th>Quantity</th>\n      <th>InvoiceDate</th>\n      <th>UnitPrice</th>\n      <th>CustomerID</th>\n      <th>Country</th>\n    </tr>\n  </thead>\n  <tbody>\n    <tr>\n      <th>141</th>\n      <td>C536379</td>\n      <td>D</td>\n      <td>Discount</td>\n      <td>-1</td>\n      <td>12/1/2010 9:41</td>\n      <td>27.50</td>\n      <td>14527.0</td>\n      <td>United Kingdom</td>\n    </tr>\n    <tr>\n      <th>154</th>\n      <td>C536383</td>\n      <td>35004C</td>\n      <td>SET OF 3 COLOURED  FLYING DUCKS</td>\n      <td>-1</td>\n      <td>12/1/2010 9:49</td>\n      <td>4.65</td>\n      <td>15311.0</td>\n      <td>United Kingdom</td>\n    </tr>\n    <tr>\n      <th>235</th>\n      <td>C536391</td>\n      <td>22556</td>\n      <td>PLASTERS IN TIN CIRCUS PARADE</td>\n      <td>-12</td>\n      <td>12/1/2010 10:24</td>\n      <td>1.65</td>\n      <td>17548.0</td>\n      <td>United Kingdom</td>\n    </tr>\n    <tr>\n      <th>236</th>\n      <td>C536391</td>\n      <td>21984</td>\n      <td>PACK OF 12 PINK PAISLEY TISSUES</td>\n      <td>-24</td>\n      <td>12/1/2010 10:24</td>\n      <td>0.29</td>\n      <td>17548.0</td>\n      <td>United Kingdom</td>\n    </tr>\n    <tr>\n      <th>237</th>\n      <td>C536391</td>\n      <td>21983</td>\n      <td>PACK OF 12 BLUE PAISLEY TISSUES</td>\n      <td>-24</td>\n      <td>12/1/2010 10:24</td>\n      <td>0.29</td>\n      <td>17548.0</td>\n      <td>United Kingdom</td>\n    </tr>\n    <tr>\n      <th>...</th>\n      <td>...</td>\n      <td>...</td>\n      <td>...</td>\n      <td>...</td>\n      <td>...</td>\n      <td>...</td>\n      <td>...</td>\n      <td>...</td>\n    </tr>\n    <tr>\n      <th>540449</th>\n      <td>C581490</td>\n      <td>23144</td>\n      <td>ZINC T-LIGHT HOLDER STARS SMALL</td>\n      <td>-11</td>\n      <td>12/9/2011 9:57</td>\n      <td>0.83</td>\n      <td>14397.0</td>\n      <td>United Kingdom</td>\n    </tr>\n    <tr>\n      <th>541541</th>\n      <td>C581499</td>\n      <td>M</td>\n      <td>Manual</td>\n      <td>-1</td>\n      <td>12/9/2011 10:28</td>\n      <td>224.69</td>\n      <td>15498.0</td>\n      <td>United Kingdom</td>\n    </tr>\n    <tr>\n      <th>541715</th>\n      <td>C581568</td>\n      <td>21258</td>\n      <td>VICTORIAN SEWING BOX LARGE</td>\n      <td>-5</td>\n      <td>12/9/2011 11:57</td>\n      <td>10.95</td>\n      <td>15311.0</td>\n      <td>United Kingdom</td>\n    </tr>\n    <tr>\n      <th>541716</th>\n      <td>C581569</td>\n      <td>84978</td>\n      <td>HANGING HEART JAR T-LIGHT HOLDER</td>\n      <td>-1</td>\n      <td>12/9/2011 11:58</td>\n      <td>1.25</td>\n      <td>17315.0</td>\n      <td>United Kingdom</td>\n    </tr>\n    <tr>\n      <th>541717</th>\n      <td>C581569</td>\n      <td>20979</td>\n      <td>36 PENCILS TUBE RED RETROSPOT</td>\n      <td>-5</td>\n      <td>12/9/2011 11:58</td>\n      <td>1.25</td>\n      <td>17315.0</td>\n      <td>United Kingdom</td>\n    </tr>\n  </tbody>\n</table>\n<p>10624 rows × 8 columns</p>\n</div>"
     },
     "execution_count": 78,
     "metadata": {},
     "output_type": "execute_result"
    }
   ],
   "source": [
    "orignal_data[orignal_data[\"Quantity\"]<0]"
   ],
   "metadata": {
    "collapsed": false,
    "ExecuteTime": {
     "end_time": "2024-03-13T09:06:10.975536400Z",
     "start_time": "2024-03-13T09:06:10.782154400Z"
    }
   },
   "execution_count": 78
  },
  {
   "cell_type": "markdown",
   "source": [
    "分析发现Quantity为负数时`InvoiceNo`: 发票号码前面都是以C开头，表示订单被取消，所以进一步验证结果"
   ],
   "metadata": {
    "collapsed": false
   }
  },
  {
   "cell_type": "code",
   "outputs": [
    {
     "data": {
      "text/plain": "       InvoiceNo StockCode Description  Quantity      InvoiceDate  UnitPrice  \\\n2406      536589     21777         NaN       -10  12/1/2010 16:50        0.0   \n4347      536764    84952C         NaN       -38  12/2/2010 14:42        0.0   \n7188      536996     22712         NaN       -20  12/3/2010 15:30        0.0   \n7189      536997     22028         NaN       -20  12/3/2010 15:30        0.0   \n7190      536998     85067         NaN        -6  12/3/2010 15:30        0.0   \n...          ...       ...         ...       ...              ...        ...   \n535333    581210     23395       check       -26  12/7/2011 18:36        0.0   \n535335    581212     22578        lost     -1050  12/7/2011 18:38        0.0   \n535336    581213     22576       check       -30  12/7/2011 18:38        0.0   \n536908    581226     23090     missing      -338   12/8/2011 9:56        0.0   \n538919    581422     23169     smashed      -235  12/8/2011 15:24        0.0   \n\n        CustomerID         Country  \n2406           NaN  United Kingdom  \n4347           NaN  United Kingdom  \n7188           NaN  United Kingdom  \n7189           NaN  United Kingdom  \n7190           NaN  United Kingdom  \n...            ...             ...  \n535333         NaN  United Kingdom  \n535335         NaN  United Kingdom  \n535336         NaN  United Kingdom  \n536908         NaN  United Kingdom  \n538919         NaN  United Kingdom  \n\n[1336 rows x 8 columns]",
      "text/html": "<div>\n<style scoped>\n    .dataframe tbody tr th:only-of-type {\n        vertical-align: middle;\n    }\n\n    .dataframe tbody tr th {\n        vertical-align: top;\n    }\n\n    .dataframe thead th {\n        text-align: right;\n    }\n</style>\n<table border=\"1\" class=\"dataframe\">\n  <thead>\n    <tr style=\"text-align: right;\">\n      <th></th>\n      <th>InvoiceNo</th>\n      <th>StockCode</th>\n      <th>Description</th>\n      <th>Quantity</th>\n      <th>InvoiceDate</th>\n      <th>UnitPrice</th>\n      <th>CustomerID</th>\n      <th>Country</th>\n    </tr>\n  </thead>\n  <tbody>\n    <tr>\n      <th>2406</th>\n      <td>536589</td>\n      <td>21777</td>\n      <td>NaN</td>\n      <td>-10</td>\n      <td>12/1/2010 16:50</td>\n      <td>0.0</td>\n      <td>NaN</td>\n      <td>United Kingdom</td>\n    </tr>\n    <tr>\n      <th>4347</th>\n      <td>536764</td>\n      <td>84952C</td>\n      <td>NaN</td>\n      <td>-38</td>\n      <td>12/2/2010 14:42</td>\n      <td>0.0</td>\n      <td>NaN</td>\n      <td>United Kingdom</td>\n    </tr>\n    <tr>\n      <th>7188</th>\n      <td>536996</td>\n      <td>22712</td>\n      <td>NaN</td>\n      <td>-20</td>\n      <td>12/3/2010 15:30</td>\n      <td>0.0</td>\n      <td>NaN</td>\n      <td>United Kingdom</td>\n    </tr>\n    <tr>\n      <th>7189</th>\n      <td>536997</td>\n      <td>22028</td>\n      <td>NaN</td>\n      <td>-20</td>\n      <td>12/3/2010 15:30</td>\n      <td>0.0</td>\n      <td>NaN</td>\n      <td>United Kingdom</td>\n    </tr>\n    <tr>\n      <th>7190</th>\n      <td>536998</td>\n      <td>85067</td>\n      <td>NaN</td>\n      <td>-6</td>\n      <td>12/3/2010 15:30</td>\n      <td>0.0</td>\n      <td>NaN</td>\n      <td>United Kingdom</td>\n    </tr>\n    <tr>\n      <th>...</th>\n      <td>...</td>\n      <td>...</td>\n      <td>...</td>\n      <td>...</td>\n      <td>...</td>\n      <td>...</td>\n      <td>...</td>\n      <td>...</td>\n    </tr>\n    <tr>\n      <th>535333</th>\n      <td>581210</td>\n      <td>23395</td>\n      <td>check</td>\n      <td>-26</td>\n      <td>12/7/2011 18:36</td>\n      <td>0.0</td>\n      <td>NaN</td>\n      <td>United Kingdom</td>\n    </tr>\n    <tr>\n      <th>535335</th>\n      <td>581212</td>\n      <td>22578</td>\n      <td>lost</td>\n      <td>-1050</td>\n      <td>12/7/2011 18:38</td>\n      <td>0.0</td>\n      <td>NaN</td>\n      <td>United Kingdom</td>\n    </tr>\n    <tr>\n      <th>535336</th>\n      <td>581213</td>\n      <td>22576</td>\n      <td>check</td>\n      <td>-30</td>\n      <td>12/7/2011 18:38</td>\n      <td>0.0</td>\n      <td>NaN</td>\n      <td>United Kingdom</td>\n    </tr>\n    <tr>\n      <th>536908</th>\n      <td>581226</td>\n      <td>23090</td>\n      <td>missing</td>\n      <td>-338</td>\n      <td>12/8/2011 9:56</td>\n      <td>0.0</td>\n      <td>NaN</td>\n      <td>United Kingdom</td>\n    </tr>\n    <tr>\n      <th>538919</th>\n      <td>581422</td>\n      <td>23169</td>\n      <td>smashed</td>\n      <td>-235</td>\n      <td>12/8/2011 15:24</td>\n      <td>0.0</td>\n      <td>NaN</td>\n      <td>United Kingdom</td>\n    </tr>\n  </tbody>\n</table>\n<p>1336 rows × 8 columns</p>\n</div>"
     },
     "execution_count": 79,
     "metadata": {},
     "output_type": "execute_result"
    }
   ],
   "source": [
    "orignal_data[(orignal_data[\"Quantity\"]<0)  & (orignal_data[\"InvoiceNo\"].str[0] != \"C\")]"
   ],
   "metadata": {
    "collapsed": false,
    "ExecuteTime": {
     "end_time": "2024-03-13T09:06:11.230579800Z",
     "start_time": "2024-03-13T09:06:10.802538800Z"
    }
   },
   "execution_count": 79
  },
  {
   "cell_type": "markdown",
   "source": [
    "发现其中还有很多InvoiceNo开头不为C的数据，继续观察发现其Unitprice都为0，那么继续添加条件进行检索。"
   ],
   "metadata": {
    "collapsed": false
   }
  },
  {
   "cell_type": "code",
   "outputs": [
    {
     "data": {
      "text/plain": "Empty DataFrame\nColumns: [InvoiceNo, StockCode, Description, Quantity, InvoiceDate, UnitPrice, CustomerID, Country]\nIndex: []",
      "text/html": "<div>\n<style scoped>\n    .dataframe tbody tr th:only-of-type {\n        vertical-align: middle;\n    }\n\n    .dataframe tbody tr th {\n        vertical-align: top;\n    }\n\n    .dataframe thead th {\n        text-align: right;\n    }\n</style>\n<table border=\"1\" class=\"dataframe\">\n  <thead>\n    <tr style=\"text-align: right;\">\n      <th></th>\n      <th>InvoiceNo</th>\n      <th>StockCode</th>\n      <th>Description</th>\n      <th>Quantity</th>\n      <th>InvoiceDate</th>\n      <th>UnitPrice</th>\n      <th>CustomerID</th>\n      <th>Country</th>\n    </tr>\n  </thead>\n  <tbody>\n  </tbody>\n</table>\n</div>"
     },
     "execution_count": 80,
     "metadata": {},
     "output_type": "execute_result"
    }
   ],
   "source": [
    "orignal_data[(orignal_data[\"Quantity\"]<0)  & (orignal_data[\"InvoiceNo\"].str[0] != \"C\") & (orignal_data[\"UnitPrice\"]!=0)]"
   ],
   "metadata": {
    "collapsed": false,
    "ExecuteTime": {
     "end_time": "2024-03-13T09:06:11.526898900Z",
     "start_time": "2024-03-13T09:06:11.036186400Z"
    }
   },
   "execution_count": 80
  },
  {
   "cell_type": "markdown",
   "source": [
    "发现三个检索条件后就没有检索值，说明猜想正确。然后更具数据分析的目标，对于InvoiceNo开头为C的订单是被取消的订单和UnitPrice为0的订单对于我们数据处理没有帮助，所以可以把这类数据删除。"
   ],
   "metadata": {
    "collapsed": false
   }
  },
  {
   "cell_type": "code",
   "outputs": [
    {
     "data": {
      "text/plain": "       InvoiceNo StockCode      Description  Quantity      InvoiceDate  \\\n299983   A563186         B  Adjust bad debt         1  8/12/2011 14:51   \n299984   A563187         B  Adjust bad debt         1  8/12/2011 14:52   \n\n        UnitPrice  CustomerID         Country  \n299983  -11062.06         NaN  United Kingdom  \n299984  -11062.06         NaN  United Kingdom  ",
      "text/html": "<div>\n<style scoped>\n    .dataframe tbody tr th:only-of-type {\n        vertical-align: middle;\n    }\n\n    .dataframe tbody tr th {\n        vertical-align: top;\n    }\n\n    .dataframe thead th {\n        text-align: right;\n    }\n</style>\n<table border=\"1\" class=\"dataframe\">\n  <thead>\n    <tr style=\"text-align: right;\">\n      <th></th>\n      <th>InvoiceNo</th>\n      <th>StockCode</th>\n      <th>Description</th>\n      <th>Quantity</th>\n      <th>InvoiceDate</th>\n      <th>UnitPrice</th>\n      <th>CustomerID</th>\n      <th>Country</th>\n    </tr>\n  </thead>\n  <tbody>\n    <tr>\n      <th>299983</th>\n      <td>A563186</td>\n      <td>B</td>\n      <td>Adjust bad debt</td>\n      <td>1</td>\n      <td>8/12/2011 14:51</td>\n      <td>-11062.06</td>\n      <td>NaN</td>\n      <td>United Kingdom</td>\n    </tr>\n    <tr>\n      <th>299984</th>\n      <td>A563187</td>\n      <td>B</td>\n      <td>Adjust bad debt</td>\n      <td>1</td>\n      <td>8/12/2011 14:52</td>\n      <td>-11062.06</td>\n      <td>NaN</td>\n      <td>United Kingdom</td>\n    </tr>\n  </tbody>\n</table>\n</div>"
     },
     "execution_count": 81,
     "metadata": {},
     "output_type": "execute_result"
    }
   ],
   "source": [
    "orignal_data[orignal_data[\"UnitPrice\"]<0]"
   ],
   "metadata": {
    "collapsed": false,
    "ExecuteTime": {
     "end_time": "2024-03-13T09:06:11.570894300Z",
     "start_time": "2024-03-13T09:06:11.249075100Z"
    }
   },
   "execution_count": 81
  },
  {
   "cell_type": "markdown",
   "source": [
    "发现UnitPrice小于0 的数据是出现了坏帐，所以也需要对该类数据进行处理。"
   ],
   "metadata": {
    "collapsed": false
   }
  },
  {
   "cell_type": "markdown",
   "source": [
    "## 数据清理"
   ],
   "metadata": {
    "collapsed": false
   }
  },
  {
   "cell_type": "markdown",
   "source": [
    "总结前面的数据过程，我们需要处理的数据包括\n",
    "1.数据类型的转换\n",
    "InvoiceDate 的数据数据类型转化为时间，CustomerID的数据类型转换成字符串\n",
    "2.评估缺失数据\n",
    "删除Description缺失的数据\n",
    "3.重复数据评估\n",
    "无\n",
    "4.评估不一致数据\n",
    "将标签代表类型相同的数据进行合并，United Kingdom，UK，U.K.这三个标签都是表示的英国可以合并，United States和USA都表示的是美国可以合并。\n",
    "即把UK，U.K.替换为United Kingdom，把USA替换为United States。\n",
    "5.评估无效和错误数据\n",
    "发现Quantity数量和Unitprice单价存在负数，和实际意义不符合,经评估后发现可以删除"
   ],
   "metadata": {
    "collapsed": false
   }
  },
  {
   "cell_type": "markdown",
   "source": [
    "为了区分原始数据和清洗后的数据，创建新的变量cleaned_data来储存我们处理后的数据"
   ],
   "metadata": {
    "collapsed": false
   }
  },
  {
   "cell_type": "code",
   "outputs": [
    {
     "data": {
      "text/plain": "  InvoiceNo StockCode                          Description  Quantity  \\\n0    536365    85123A   WHITE HANGING HEART T-LIGHT HOLDER         6   \n1    536365     71053                  WHITE METAL LANTERN         6   \n2    536365    84406B       CREAM CUPID HEARTS COAT HANGER         8   \n3    536365    84029G  KNITTED UNION FLAG HOT WATER BOTTLE         6   \n4    536365    84029E       RED WOOLLY HOTTIE WHITE HEART.         6   \n\n      InvoiceDate  UnitPrice  CustomerID         Country  \n0  12/1/2010 8:26       2.55     17850.0  United Kingdom  \n1  12/1/2010 8:26       3.39     17850.0  United Kingdom  \n2  12/1/2010 8:26       2.75     17850.0  United Kingdom  \n3  12/1/2010 8:26       3.39     17850.0  United Kingdom  \n4  12/1/2010 8:26       3.39     17850.0  United Kingdom  ",
      "text/html": "<div>\n<style scoped>\n    .dataframe tbody tr th:only-of-type {\n        vertical-align: middle;\n    }\n\n    .dataframe tbody tr th {\n        vertical-align: top;\n    }\n\n    .dataframe thead th {\n        text-align: right;\n    }\n</style>\n<table border=\"1\" class=\"dataframe\">\n  <thead>\n    <tr style=\"text-align: right;\">\n      <th></th>\n      <th>InvoiceNo</th>\n      <th>StockCode</th>\n      <th>Description</th>\n      <th>Quantity</th>\n      <th>InvoiceDate</th>\n      <th>UnitPrice</th>\n      <th>CustomerID</th>\n      <th>Country</th>\n    </tr>\n  </thead>\n  <tbody>\n    <tr>\n      <th>0</th>\n      <td>536365</td>\n      <td>85123A</td>\n      <td>WHITE HANGING HEART T-LIGHT HOLDER</td>\n      <td>6</td>\n      <td>12/1/2010 8:26</td>\n      <td>2.55</td>\n      <td>17850.0</td>\n      <td>United Kingdom</td>\n    </tr>\n    <tr>\n      <th>1</th>\n      <td>536365</td>\n      <td>71053</td>\n      <td>WHITE METAL LANTERN</td>\n      <td>6</td>\n      <td>12/1/2010 8:26</td>\n      <td>3.39</td>\n      <td>17850.0</td>\n      <td>United Kingdom</td>\n    </tr>\n    <tr>\n      <th>2</th>\n      <td>536365</td>\n      <td>84406B</td>\n      <td>CREAM CUPID HEARTS COAT HANGER</td>\n      <td>8</td>\n      <td>12/1/2010 8:26</td>\n      <td>2.75</td>\n      <td>17850.0</td>\n      <td>United Kingdom</td>\n    </tr>\n    <tr>\n      <th>3</th>\n      <td>536365</td>\n      <td>84029G</td>\n      <td>KNITTED UNION FLAG HOT WATER BOTTLE</td>\n      <td>6</td>\n      <td>12/1/2010 8:26</td>\n      <td>3.39</td>\n      <td>17850.0</td>\n      <td>United Kingdom</td>\n    </tr>\n    <tr>\n      <th>4</th>\n      <td>536365</td>\n      <td>84029E</td>\n      <td>RED WOOLLY HOTTIE WHITE HEART.</td>\n      <td>6</td>\n      <td>12/1/2010 8:26</td>\n      <td>3.39</td>\n      <td>17850.0</td>\n      <td>United Kingdom</td>\n    </tr>\n  </tbody>\n</table>\n</div>"
     },
     "execution_count": 82,
     "metadata": {},
     "output_type": "execute_result"
    }
   ],
   "source": [
    "cleaned_data = orignal_data.copy()\n",
    "cleaned_data.head()"
   ],
   "metadata": {
    "collapsed": false,
    "ExecuteTime": {
     "end_time": "2024-03-13T09:06:11.572894300Z",
     "start_time": "2024-03-13T09:06:11.263565400Z"
    }
   },
   "execution_count": 82
  },
  {
   "cell_type": "markdown",
   "source": [
    "#### 1.InvoiceDate 的数据数据类型转化为时间，CustomerID的数据类型转换成字符串"
   ],
   "metadata": {
    "collapsed": false
   }
  },
  {
   "cell_type": "code",
   "outputs": [],
   "source": [
    "cleaned_data[\"InvoiceDate\"] = pd.to_datetime(cleaned_data[\"InvoiceDate\"])"
   ],
   "metadata": {
    "collapsed": false,
    "ExecuteTime": {
     "end_time": "2024-03-13T09:06:11.689838400Z",
     "start_time": "2024-03-13T09:06:11.298850600Z"
    }
   },
   "execution_count": 83
  },
  {
   "cell_type": "code",
   "outputs": [
    {
     "data": {
      "text/plain": "  InvoiceNo StockCode                          Description  Quantity  \\\n0    536365    85123A   WHITE HANGING HEART T-LIGHT HOLDER         6   \n1    536365     71053                  WHITE METAL LANTERN         6   \n2    536365    84406B       CREAM CUPID HEARTS COAT HANGER         8   \n3    536365    84029G  KNITTED UNION FLAG HOT WATER BOTTLE         6   \n4    536365    84029E       RED WOOLLY HOTTIE WHITE HEART.         6   \n\n          InvoiceDate  UnitPrice  CustomerID         Country  \n0 2010-12-01 08:26:00       2.55     17850.0  United Kingdom  \n1 2010-12-01 08:26:00       3.39     17850.0  United Kingdom  \n2 2010-12-01 08:26:00       2.75     17850.0  United Kingdom  \n3 2010-12-01 08:26:00       3.39     17850.0  United Kingdom  \n4 2010-12-01 08:26:00       3.39     17850.0  United Kingdom  ",
      "text/html": "<div>\n<style scoped>\n    .dataframe tbody tr th:only-of-type {\n        vertical-align: middle;\n    }\n\n    .dataframe tbody tr th {\n        vertical-align: top;\n    }\n\n    .dataframe thead th {\n        text-align: right;\n    }\n</style>\n<table border=\"1\" class=\"dataframe\">\n  <thead>\n    <tr style=\"text-align: right;\">\n      <th></th>\n      <th>InvoiceNo</th>\n      <th>StockCode</th>\n      <th>Description</th>\n      <th>Quantity</th>\n      <th>InvoiceDate</th>\n      <th>UnitPrice</th>\n      <th>CustomerID</th>\n      <th>Country</th>\n    </tr>\n  </thead>\n  <tbody>\n    <tr>\n      <th>0</th>\n      <td>536365</td>\n      <td>85123A</td>\n      <td>WHITE HANGING HEART T-LIGHT HOLDER</td>\n      <td>6</td>\n      <td>2010-12-01 08:26:00</td>\n      <td>2.55</td>\n      <td>17850.0</td>\n      <td>United Kingdom</td>\n    </tr>\n    <tr>\n      <th>1</th>\n      <td>536365</td>\n      <td>71053</td>\n      <td>WHITE METAL LANTERN</td>\n      <td>6</td>\n      <td>2010-12-01 08:26:00</td>\n      <td>3.39</td>\n      <td>17850.0</td>\n      <td>United Kingdom</td>\n    </tr>\n    <tr>\n      <th>2</th>\n      <td>536365</td>\n      <td>84406B</td>\n      <td>CREAM CUPID HEARTS COAT HANGER</td>\n      <td>8</td>\n      <td>2010-12-01 08:26:00</td>\n      <td>2.75</td>\n      <td>17850.0</td>\n      <td>United Kingdom</td>\n    </tr>\n    <tr>\n      <th>3</th>\n      <td>536365</td>\n      <td>84029G</td>\n      <td>KNITTED UNION FLAG HOT WATER BOTTLE</td>\n      <td>6</td>\n      <td>2010-12-01 08:26:00</td>\n      <td>3.39</td>\n      <td>17850.0</td>\n      <td>United Kingdom</td>\n    </tr>\n    <tr>\n      <th>4</th>\n      <td>536365</td>\n      <td>84029E</td>\n      <td>RED WOOLLY HOTTIE WHITE HEART.</td>\n      <td>6</td>\n      <td>2010-12-01 08:26:00</td>\n      <td>3.39</td>\n      <td>17850.0</td>\n      <td>United Kingdom</td>\n    </tr>\n  </tbody>\n</table>\n</div>"
     },
     "execution_count": 84,
     "metadata": {},
     "output_type": "execute_result"
    }
   ],
   "source": [
    "cleaned_data.head()"
   ],
   "metadata": {
    "collapsed": false,
    "ExecuteTime": {
     "end_time": "2024-03-13T09:06:11.700821300Z",
     "start_time": "2024-03-13T09:06:11.473783700Z"
    }
   },
   "execution_count": 84
  },
  {
   "cell_type": "code",
   "outputs": [],
   "source": [
    "cleaned_data[\"CustomerID\"] = cleaned_data[\"CustomerID\"].astype(str)"
   ],
   "metadata": {
    "collapsed": false,
    "ExecuteTime": {
     "end_time": "2024-03-13T09:06:12.165124400Z",
     "start_time": "2024-03-13T09:06:11.489316900Z"
    }
   },
   "execution_count": 85
  },
  {
   "cell_type": "code",
   "outputs": [],
   "source": [
    "cleaned_data[\"CustomerID\"]=cleaned_data[\"CustomerID\"].str.slice(0,5)"
   ],
   "metadata": {
    "collapsed": false,
    "ExecuteTime": {
     "end_time": "2024-03-13T09:06:12.304700700Z",
     "start_time": "2024-03-13T09:06:11.822842600Z"
    }
   },
   "execution_count": 86
  },
  {
   "cell_type": "code",
   "outputs": [
    {
     "data": {
      "text/plain": "  InvoiceNo StockCode                          Description  Quantity  \\\n0    536365    85123A   WHITE HANGING HEART T-LIGHT HOLDER         6   \n1    536365     71053                  WHITE METAL LANTERN         6   \n2    536365    84406B       CREAM CUPID HEARTS COAT HANGER         8   \n3    536365    84029G  KNITTED UNION FLAG HOT WATER BOTTLE         6   \n4    536365    84029E       RED WOOLLY HOTTIE WHITE HEART.         6   \n\n          InvoiceDate  UnitPrice CustomerID         Country  \n0 2010-12-01 08:26:00       2.55      17850  United Kingdom  \n1 2010-12-01 08:26:00       3.39      17850  United Kingdom  \n2 2010-12-01 08:26:00       2.75      17850  United Kingdom  \n3 2010-12-01 08:26:00       3.39      17850  United Kingdom  \n4 2010-12-01 08:26:00       3.39      17850  United Kingdom  ",
      "text/html": "<div>\n<style scoped>\n    .dataframe tbody tr th:only-of-type {\n        vertical-align: middle;\n    }\n\n    .dataframe tbody tr th {\n        vertical-align: top;\n    }\n\n    .dataframe thead th {\n        text-align: right;\n    }\n</style>\n<table border=\"1\" class=\"dataframe\">\n  <thead>\n    <tr style=\"text-align: right;\">\n      <th></th>\n      <th>InvoiceNo</th>\n      <th>StockCode</th>\n      <th>Description</th>\n      <th>Quantity</th>\n      <th>InvoiceDate</th>\n      <th>UnitPrice</th>\n      <th>CustomerID</th>\n      <th>Country</th>\n    </tr>\n  </thead>\n  <tbody>\n    <tr>\n      <th>0</th>\n      <td>536365</td>\n      <td>85123A</td>\n      <td>WHITE HANGING HEART T-LIGHT HOLDER</td>\n      <td>6</td>\n      <td>2010-12-01 08:26:00</td>\n      <td>2.55</td>\n      <td>17850</td>\n      <td>United Kingdom</td>\n    </tr>\n    <tr>\n      <th>1</th>\n      <td>536365</td>\n      <td>71053</td>\n      <td>WHITE METAL LANTERN</td>\n      <td>6</td>\n      <td>2010-12-01 08:26:00</td>\n      <td>3.39</td>\n      <td>17850</td>\n      <td>United Kingdom</td>\n    </tr>\n    <tr>\n      <th>2</th>\n      <td>536365</td>\n      <td>84406B</td>\n      <td>CREAM CUPID HEARTS COAT HANGER</td>\n      <td>8</td>\n      <td>2010-12-01 08:26:00</td>\n      <td>2.75</td>\n      <td>17850</td>\n      <td>United Kingdom</td>\n    </tr>\n    <tr>\n      <th>3</th>\n      <td>536365</td>\n      <td>84029G</td>\n      <td>KNITTED UNION FLAG HOT WATER BOTTLE</td>\n      <td>6</td>\n      <td>2010-12-01 08:26:00</td>\n      <td>3.39</td>\n      <td>17850</td>\n      <td>United Kingdom</td>\n    </tr>\n    <tr>\n      <th>4</th>\n      <td>536365</td>\n      <td>84029E</td>\n      <td>RED WOOLLY HOTTIE WHITE HEART.</td>\n      <td>6</td>\n      <td>2010-12-01 08:26:00</td>\n      <td>3.39</td>\n      <td>17850</td>\n      <td>United Kingdom</td>\n    </tr>\n  </tbody>\n</table>\n</div>"
     },
     "execution_count": 87,
     "metadata": {},
     "output_type": "execute_result"
    }
   ],
   "source": [
    "cleaned_data.head()"
   ],
   "metadata": {
    "collapsed": false,
    "ExecuteTime": {
     "end_time": "2024-03-13T09:06:12.376036600Z",
     "start_time": "2024-03-13T09:06:11.990720Z"
    }
   },
   "execution_count": 87
  },
  {
   "cell_type": "markdown",
   "source": [
    "经检查数据类型已经修改完成"
   ],
   "metadata": {
    "collapsed": false
   }
  },
  {
   "cell_type": "markdown",
   "source": [
    "#### 2.删除有空缺值的无效数据"
   ],
   "metadata": {
    "collapsed": false
   }
  },
  {
   "cell_type": "code",
   "outputs": [],
   "source": [
    "cleaned_data.dropna(subset=['Description'], inplace=True)"
   ],
   "metadata": {
    "collapsed": false,
    "ExecuteTime": {
     "end_time": "2024-03-13T09:06:12.460643600Z",
     "start_time": "2024-03-13T09:06:12.013236900Z"
    }
   },
   "execution_count": 88
  },
  {
   "cell_type": "code",
   "outputs": [
    {
     "data": {
      "text/plain": "Empty DataFrame\nColumns: [InvoiceNo, StockCode, Description, Quantity, InvoiceDate, UnitPrice, CustomerID, Country]\nIndex: []",
      "text/html": "<div>\n<style scoped>\n    .dataframe tbody tr th:only-of-type {\n        vertical-align: middle;\n    }\n\n    .dataframe tbody tr th {\n        vertical-align: top;\n    }\n\n    .dataframe thead th {\n        text-align: right;\n    }\n</style>\n<table border=\"1\" class=\"dataframe\">\n  <thead>\n    <tr style=\"text-align: right;\">\n      <th></th>\n      <th>InvoiceNo</th>\n      <th>StockCode</th>\n      <th>Description</th>\n      <th>Quantity</th>\n      <th>InvoiceDate</th>\n      <th>UnitPrice</th>\n      <th>CustomerID</th>\n      <th>Country</th>\n    </tr>\n  </thead>\n  <tbody>\n  </tbody>\n</table>\n</div>"
     },
     "execution_count": 89,
     "metadata": {},
     "output_type": "execute_result"
    }
   ],
   "source": [
    "cleaned_data[cleaned_data[\"Description\"].isnull()]"
   ],
   "metadata": {
    "collapsed": false,
    "ExecuteTime": {
     "end_time": "2024-03-13T09:06:12.536750500Z",
     "start_time": "2024-03-13T09:06:12.113259800Z"
    }
   },
   "execution_count": 89
  },
  {
   "cell_type": "markdown",
   "source": [
    "经检索已经删除完成"
   ],
   "metadata": {
    "collapsed": false
   }
  },
  {
   "cell_type": "markdown",
   "source": [
    "#### 4.评估不一致数据"
   ],
   "metadata": {
    "collapsed": false
   }
  },
  {
   "cell_type": "markdown",
   "source": [
    "将标签代表类型相同的数据进行合并，United Kingdom，UK，U.K.这三个标签都是表示的英国可以合并，United States和USA都表示的是美国可以合并。\n",
    "即把UK，U.K.替换为United Kingdom，把USA替换为United States。"
   ],
   "metadata": {
    "collapsed": false
   }
  },
  {
   "cell_type": "code",
   "outputs": [],
   "source": [
    "cleaned_data.replace(\"UK\",\"United Kingdom\", inplace=True)"
   ],
   "metadata": {
    "collapsed": false,
    "ExecuteTime": {
     "end_time": "2024-03-13T09:06:12.657233600Z",
     "start_time": "2024-03-13T09:06:12.141125900Z"
    }
   },
   "execution_count": 90
  },
  {
   "cell_type": "code",
   "outputs": [],
   "source": [
    "cleaned_data.replace(\"U.K.\",\"United Kingdom\", inplace=True)"
   ],
   "metadata": {
    "collapsed": false,
    "ExecuteTime": {
     "end_time": "2024-03-13T09:06:12.679226800Z",
     "start_time": "2024-03-13T09:06:12.395641100Z"
    }
   },
   "execution_count": 91
  },
  {
   "cell_type": "code",
   "outputs": [],
   "source": [
    "cleaned_data.replace(\"USA\",\"United States\", inplace=True)"
   ],
   "metadata": {
    "collapsed": false,
    "ExecuteTime": {
     "end_time": "2024-03-13T09:06:12.922121500Z",
     "start_time": "2024-03-13T09:06:12.520606Z"
    }
   },
   "execution_count": 92
  },
  {
   "cell_type": "code",
   "outputs": [
    {
     "data": {
      "text/plain": "Country\nUnited Kingdom          494024\nGermany                   9495\nFrance                    8557\nEIRE                      8196\nSpain                     2533\nNetherlands               2371\nBelgium                   2069\nSwitzerland               2002\nPortugal                  1519\nAustralia                 1259\nNorway                    1086\nItaly                      803\nChannel Islands            758\nFinland                    695\nCyprus                     622\nSweden                     462\nUnspecified                446\nAustria                    401\nDenmark                    389\nJapan                      358\nPoland                     341\nIsrael                     297\nUnited States              291\nChina                      288\nSingapore                  229\nIceland                    182\nCanada                     151\nGreece                     146\nMalta                      127\nUnited Arab Emirates        68\nEuropean Community          61\nRSA                         58\nLebanon                     45\nLithuania                   35\nBrazil                      32\nCzech Republic              30\nBahrain                     19\nSaudi Arabia                10\nName: count, dtype: int64"
     },
     "execution_count": 93,
     "metadata": {},
     "output_type": "execute_result"
    }
   ],
   "source": [
    "cleaned_data[\"Country\"].value_counts()"
   ],
   "metadata": {
    "collapsed": false,
    "ExecuteTime": {
     "end_time": "2024-03-13T09:06:13.006691300Z",
     "start_time": "2024-03-13T09:06:12.710753700Z"
    }
   },
   "execution_count": 93
  },
  {
   "cell_type": "markdown",
   "source": [
    "经检查标签名称以全部替换没有相同意义的标签"
   ],
   "metadata": {
    "collapsed": false
   }
  },
  {
   "cell_type": "markdown",
   "source": [
    "#### 5.评估无效和错误数据"
   ],
   "metadata": {
    "collapsed": false
   }
  },
  {
   "cell_type": "markdown",
   "source": [
    "发现Quantity数量和Unitprice单价存在负数，和实际意义不符合,经评估后发现可以删除"
   ],
   "metadata": {
    "collapsed": false
   }
  },
  {
   "cell_type": "markdown",
   "source": [
    "思路是把所以Quantity大于0的数据筛选出来重新附给Quantity。"
   ],
   "metadata": {
    "collapsed": false
   }
  },
  {
   "cell_type": "code",
   "outputs": [],
   "source": [
    "cleaned_data = cleaned_data[cleaned_data[\"Quantity\"]>=0]"
   ],
   "metadata": {
    "collapsed": false,
    "ExecuteTime": {
     "end_time": "2024-03-13T09:06:13.092579400Z",
     "start_time": "2024-03-13T09:06:12.759233300Z"
    }
   },
   "execution_count": 94
  },
  {
   "cell_type": "code",
   "outputs": [
    {
     "data": {
      "text/plain": "Empty DataFrame\nColumns: [InvoiceNo, StockCode, Description, Quantity, InvoiceDate, UnitPrice, CustomerID, Country]\nIndex: []",
      "text/html": "<div>\n<style scoped>\n    .dataframe tbody tr th:only-of-type {\n        vertical-align: middle;\n    }\n\n    .dataframe tbody tr th {\n        vertical-align: top;\n    }\n\n    .dataframe thead th {\n        text-align: right;\n    }\n</style>\n<table border=\"1\" class=\"dataframe\">\n  <thead>\n    <tr style=\"text-align: right;\">\n      <th></th>\n      <th>InvoiceNo</th>\n      <th>StockCode</th>\n      <th>Description</th>\n      <th>Quantity</th>\n      <th>InvoiceDate</th>\n      <th>UnitPrice</th>\n      <th>CustomerID</th>\n      <th>Country</th>\n    </tr>\n  </thead>\n  <tbody>\n  </tbody>\n</table>\n</div>"
     },
     "execution_count": 95,
     "metadata": {},
     "output_type": "execute_result"
    }
   ],
   "source": [
    "cleaned_data[cleaned_data[\"Quantity\"]<0]"
   ],
   "metadata": {
    "collapsed": false,
    "ExecuteTime": {
     "end_time": "2024-03-13T09:06:13.104574Z",
     "start_time": "2024-03-13T09:06:12.847875300Z"
    }
   },
   "execution_count": 95
  },
  {
   "cell_type": "code",
   "outputs": [
    {
     "data": {
      "text/plain": "Empty DataFrame\nColumns: [InvoiceNo, StockCode, Description, Quantity, InvoiceDate, UnitPrice, CustomerID, Country]\nIndex: []",
      "text/html": "<div>\n<style scoped>\n    .dataframe tbody tr th:only-of-type {\n        vertical-align: middle;\n    }\n\n    .dataframe tbody tr th {\n        vertical-align: top;\n    }\n\n    .dataframe thead th {\n        text-align: right;\n    }\n</style>\n<table border=\"1\" class=\"dataframe\">\n  <thead>\n    <tr style=\"text-align: right;\">\n      <th></th>\n      <th>InvoiceNo</th>\n      <th>StockCode</th>\n      <th>Description</th>\n      <th>Quantity</th>\n      <th>InvoiceDate</th>\n      <th>UnitPrice</th>\n      <th>CustomerID</th>\n      <th>Country</th>\n    </tr>\n  </thead>\n  <tbody>\n  </tbody>\n</table>\n</div>"
     },
     "execution_count": 96,
     "metadata": {},
     "output_type": "execute_result"
    }
   ],
   "source": [
    "cleaned_data = cleaned_data[cleaned_data[\"UnitPrice\"]>=0]\n",
    "cleaned_data[cleaned_data[\"Quantity\"]<0]"
   ],
   "metadata": {
    "collapsed": false,
    "ExecuteTime": {
     "end_time": "2024-03-13T09:06:13.188525800Z",
     "start_time": "2024-03-13T09:06:12.859120300Z"
    }
   },
   "execution_count": 96
  },
  {
   "cell_type": "markdown",
   "source": [
    "经检查已经去除掉了所以的无效和错误数据"
   ],
   "metadata": {
    "collapsed": false
   }
  },
  {
   "cell_type": "markdown",
   "source": [
    "## 最后经过检查清洗后的数据集展示"
   ],
   "metadata": {
    "collapsed": false
   }
  },
  {
   "cell_type": "code",
   "outputs": [
    {
     "data": {
      "text/plain": "       InvoiceNo StockCode                          Description  Quantity  \\\n0         536365    85123A   WHITE HANGING HEART T-LIGHT HOLDER         6   \n1         536365     71053                  WHITE METAL LANTERN         6   \n2         536365    84406B       CREAM CUPID HEARTS COAT HANGER         8   \n3         536365    84029G  KNITTED UNION FLAG HOT WATER BOTTLE         6   \n4         536365    84029E       RED WOOLLY HOTTIE WHITE HEART.         6   \n...          ...       ...                                  ...       ...   \n541904    581587     22613          PACK OF 20 SPACEBOY NAPKINS        12   \n541905    581587     22899         CHILDREN'S APRON DOLLY GIRL          6   \n541906    581587     23254        CHILDRENS CUTLERY DOLLY GIRL          4   \n541907    581587     23255      CHILDRENS CUTLERY CIRCUS PARADE         4   \n541908    581587     22138        BAKING SET 9 PIECE RETROSPOT          3   \n\n               InvoiceDate  UnitPrice CustomerID         Country  \n0      2010-12-01 08:26:00       2.55      17850  United Kingdom  \n1      2010-12-01 08:26:00       3.39      17850  United Kingdom  \n2      2010-12-01 08:26:00       2.75      17850  United Kingdom  \n3      2010-12-01 08:26:00       3.39      17850  United Kingdom  \n4      2010-12-01 08:26:00       3.39      17850  United Kingdom  \n...                    ...        ...        ...             ...  \n541904 2011-12-09 12:50:00       0.85      12680          France  \n541905 2011-12-09 12:50:00       2.10      12680          France  \n541906 2011-12-09 12:50:00       4.15      12680          France  \n541907 2011-12-09 12:50:00       4.15      12680          France  \n541908 2011-12-09 12:50:00       4.95      12680          France  \n\n[530691 rows x 8 columns]",
      "text/html": "<div>\n<style scoped>\n    .dataframe tbody tr th:only-of-type {\n        vertical-align: middle;\n    }\n\n    .dataframe tbody tr th {\n        vertical-align: top;\n    }\n\n    .dataframe thead th {\n        text-align: right;\n    }\n</style>\n<table border=\"1\" class=\"dataframe\">\n  <thead>\n    <tr style=\"text-align: right;\">\n      <th></th>\n      <th>InvoiceNo</th>\n      <th>StockCode</th>\n      <th>Description</th>\n      <th>Quantity</th>\n      <th>InvoiceDate</th>\n      <th>UnitPrice</th>\n      <th>CustomerID</th>\n      <th>Country</th>\n    </tr>\n  </thead>\n  <tbody>\n    <tr>\n      <th>0</th>\n      <td>536365</td>\n      <td>85123A</td>\n      <td>WHITE HANGING HEART T-LIGHT HOLDER</td>\n      <td>6</td>\n      <td>2010-12-01 08:26:00</td>\n      <td>2.55</td>\n      <td>17850</td>\n      <td>United Kingdom</td>\n    </tr>\n    <tr>\n      <th>1</th>\n      <td>536365</td>\n      <td>71053</td>\n      <td>WHITE METAL LANTERN</td>\n      <td>6</td>\n      <td>2010-12-01 08:26:00</td>\n      <td>3.39</td>\n      <td>17850</td>\n      <td>United Kingdom</td>\n    </tr>\n    <tr>\n      <th>2</th>\n      <td>536365</td>\n      <td>84406B</td>\n      <td>CREAM CUPID HEARTS COAT HANGER</td>\n      <td>8</td>\n      <td>2010-12-01 08:26:00</td>\n      <td>2.75</td>\n      <td>17850</td>\n      <td>United Kingdom</td>\n    </tr>\n    <tr>\n      <th>3</th>\n      <td>536365</td>\n      <td>84029G</td>\n      <td>KNITTED UNION FLAG HOT WATER BOTTLE</td>\n      <td>6</td>\n      <td>2010-12-01 08:26:00</td>\n      <td>3.39</td>\n      <td>17850</td>\n      <td>United Kingdom</td>\n    </tr>\n    <tr>\n      <th>4</th>\n      <td>536365</td>\n      <td>84029E</td>\n      <td>RED WOOLLY HOTTIE WHITE HEART.</td>\n      <td>6</td>\n      <td>2010-12-01 08:26:00</td>\n      <td>3.39</td>\n      <td>17850</td>\n      <td>United Kingdom</td>\n    </tr>\n    <tr>\n      <th>...</th>\n      <td>...</td>\n      <td>...</td>\n      <td>...</td>\n      <td>...</td>\n      <td>...</td>\n      <td>...</td>\n      <td>...</td>\n      <td>...</td>\n    </tr>\n    <tr>\n      <th>541904</th>\n      <td>581587</td>\n      <td>22613</td>\n      <td>PACK OF 20 SPACEBOY NAPKINS</td>\n      <td>12</td>\n      <td>2011-12-09 12:50:00</td>\n      <td>0.85</td>\n      <td>12680</td>\n      <td>France</td>\n    </tr>\n    <tr>\n      <th>541905</th>\n      <td>581587</td>\n      <td>22899</td>\n      <td>CHILDREN'S APRON DOLLY GIRL</td>\n      <td>6</td>\n      <td>2011-12-09 12:50:00</td>\n      <td>2.10</td>\n      <td>12680</td>\n      <td>France</td>\n    </tr>\n    <tr>\n      <th>541906</th>\n      <td>581587</td>\n      <td>23254</td>\n      <td>CHILDRENS CUTLERY DOLLY GIRL</td>\n      <td>4</td>\n      <td>2011-12-09 12:50:00</td>\n      <td>4.15</td>\n      <td>12680</td>\n      <td>France</td>\n    </tr>\n    <tr>\n      <th>541907</th>\n      <td>581587</td>\n      <td>23255</td>\n      <td>CHILDRENS CUTLERY CIRCUS PARADE</td>\n      <td>4</td>\n      <td>2011-12-09 12:50:00</td>\n      <td>4.15</td>\n      <td>12680</td>\n      <td>France</td>\n    </tr>\n    <tr>\n      <th>541908</th>\n      <td>581587</td>\n      <td>22138</td>\n      <td>BAKING SET 9 PIECE RETROSPOT</td>\n      <td>3</td>\n      <td>2011-12-09 12:50:00</td>\n      <td>4.95</td>\n      <td>12680</td>\n      <td>France</td>\n    </tr>\n  </tbody>\n</table>\n<p>530691 rows × 8 columns</p>\n</div>"
     },
     "execution_count": 97,
     "metadata": {},
     "output_type": "execute_result"
    }
   ],
   "source": [
    "cleaned_data"
   ],
   "metadata": {
    "collapsed": false,
    "ExecuteTime": {
     "end_time": "2024-03-13T09:06:13.216075500Z",
     "start_time": "2024-03-13T09:06:12.961269700Z"
    }
   },
   "execution_count": 97
  },
  {
   "cell_type": "markdown",
   "source": [
    "## 最后再随机取样30个观察数据是否符合我们的需要"
   ],
   "metadata": {
    "collapsed": false
   }
  },
  {
   "cell_type": "code",
   "outputs": [
    {
     "data": {
      "text/plain": "       InvoiceNo StockCode                          Description  Quantity  \\\n333088    566171     20725              LUNCH BAG RED RETROSPOT         2   \n227415    556876    47593B                SCOTTIE DOGS BABY BIB         1   \n501635    578827     23434     3 RAFFIA RIBBONS 50'S CHRISTMAS          4   \n65551     541696     21494       ROTATING LEAVES T-LIGHT HOLDER         7   \n65871     541696    90202D          PINK ENAMEL FLOWER HAIR TIE         2   \n279599    561332     22690        DOORMAT HOME SWEET HOME BLUE          2   \n521091    580311     22776        SWEETHEART 3 TIER CAKE STAND          3   \n279136    561241     84380    SET OF 3 BUTTERFLY COOKIE CUTTERS        12   \n452763    575384     22941         CHRISTMAS LIGHTS 10 REINDEER         4   \n5274      536856     22748            POPPY'S PLAYHOUSE KITCHEN         6   \n450997    575177     23312          VINTAGE CHRISTMAS GIFT SACK         1   \n69852     541987     22480         RED TEA TOWEL CLASSIC DESIGN         3   \n67841     541847     21171                 BATHROOM METAL SIGN          2   \n420399    572893    35819B           ACRYLIC HANGING JEWEL,BLUE        24   \n517131    580032     21328               BALLOONS  WRITING SET          3   \n185608    552822    84912B                   GREEN ROSE WASHBAG         1   \n427713    573396     22065       CHRISTMAS PUDDING TRINKET POT          4   \n434598    574053     22077               6 RIBBONS RUSTIC CHARM        12   \n429148    573545     22947           WOODEN ADVENT CALENDAR RED         6   \n128549    547357     22858                  EASTER TIN KEEPSAKE         6   \n385005    570187     22424               ENAMEL BREAD BIN CREAM         1   \n142424    548612     22851   SET 20 NAPKINS FAIRY CAKES DESIGN          1   \n220090    556116    82616C  MIDNIGHT GLAMOUR SCARF KNITTING KIT        12   \n155277    549981     22555            PLASTERS IN TIN STRONGMAN         1   \n163910    550630     21394                 RED POLKADOT BEAKER         48   \n31610     538999     22798     ANTIQUE GLASS DRESSING TABLE POT         8   \n66699     541811     21035      SET/2 RED RETROSPOT TEA TOWELS          1   \n413263    572309     21993           FLORAL FOLK STATIONERY SET         4   \n361517    568346     23292               SPACEBOY CHILDRENS CUP        30   \n183080    552642     23171             REGENCY TEA PLATE GREEN         12   \n\n               InvoiceDate  UnitPrice CustomerID         Country  \n333088 2011-09-09 12:22:00       1.65      18118  United Kingdom  \n227415 2011-06-15 11:56:00       0.39      16241  United Kingdom  \n501635 2011-11-25 14:25:00       0.83        nan  United Kingdom  \n65551  2011-01-20 18:08:00       1.63        nan  United Kingdom  \n65871  2011-01-20 18:08:00       2.90        nan  United Kingdom  \n279599 2011-07-26 14:25:00       7.95      13492     Switzerland  \n521091 2011-12-02 14:48:00       9.95      18245  United Kingdom  \n279136 2011-07-26 11:00:00       1.25      13930  United Kingdom  \n452763 2011-11-09 15:17:00       8.50      17690  United Kingdom  \n5274   2010-12-03 10:26:00       2.10      13370  United Kingdom  \n450997 2011-11-08 18:41:00       8.29        nan  United Kingdom  \n69852  2011-01-24 16:05:00       1.25      14130  United Kingdom  \n67841  2011-01-23 13:25:00       1.45      15443  United Kingdom  \n420399 2011-10-26 14:36:00       0.38      18059  United Kingdom  \n517131 2011-12-01 12:17:00       1.65      14659  United Kingdom  \n185608 2011-05-11 12:59:00       3.75      15521  United Kingdom  \n427713 2011-10-30 15:13:00       0.39      14723  United Kingdom  \n434598 2011-11-02 14:04:00       1.95      16379  United Kingdom  \n429148 2011-10-31 13:12:00       7.95      16969  United Kingdom  \n128549 2011-03-22 12:15:00       1.65      17613  United Kingdom  \n385005 2011-10-07 15:09:00      24.96        nan  United Kingdom  \n142424 2011-04-01 11:34:00       0.85      13137  United Kingdom  \n220090 2011-06-09 09:44:00       1.25      15214  United Kingdom  \n155277 2011-04-13 15:49:00       1.65      16348  United Kingdom  \n163910 2011-04-19 14:49:00       0.39      14298  United Kingdom  \n31610  2010-12-15 12:09:00       2.95      16003  United Kingdom  \n66699  2011-01-21 15:01:00       5.79        nan  United Kingdom  \n413263 2011-10-23 15:29:00       1.25      14432  United Kingdom  \n361517 2011-09-26 15:28:00       2.46      14096  United Kingdom  \n183080 2011-05-10 13:22:00       1.65      14288  United Kingdom  ",
      "text/html": "<div>\n<style scoped>\n    .dataframe tbody tr th:only-of-type {\n        vertical-align: middle;\n    }\n\n    .dataframe tbody tr th {\n        vertical-align: top;\n    }\n\n    .dataframe thead th {\n        text-align: right;\n    }\n</style>\n<table border=\"1\" class=\"dataframe\">\n  <thead>\n    <tr style=\"text-align: right;\">\n      <th></th>\n      <th>InvoiceNo</th>\n      <th>StockCode</th>\n      <th>Description</th>\n      <th>Quantity</th>\n      <th>InvoiceDate</th>\n      <th>UnitPrice</th>\n      <th>CustomerID</th>\n      <th>Country</th>\n    </tr>\n  </thead>\n  <tbody>\n    <tr>\n      <th>333088</th>\n      <td>566171</td>\n      <td>20725</td>\n      <td>LUNCH BAG RED RETROSPOT</td>\n      <td>2</td>\n      <td>2011-09-09 12:22:00</td>\n      <td>1.65</td>\n      <td>18118</td>\n      <td>United Kingdom</td>\n    </tr>\n    <tr>\n      <th>227415</th>\n      <td>556876</td>\n      <td>47593B</td>\n      <td>SCOTTIE DOGS BABY BIB</td>\n      <td>1</td>\n      <td>2011-06-15 11:56:00</td>\n      <td>0.39</td>\n      <td>16241</td>\n      <td>United Kingdom</td>\n    </tr>\n    <tr>\n      <th>501635</th>\n      <td>578827</td>\n      <td>23434</td>\n      <td>3 RAFFIA RIBBONS 50'S CHRISTMAS</td>\n      <td>4</td>\n      <td>2011-11-25 14:25:00</td>\n      <td>0.83</td>\n      <td>nan</td>\n      <td>United Kingdom</td>\n    </tr>\n    <tr>\n      <th>65551</th>\n      <td>541696</td>\n      <td>21494</td>\n      <td>ROTATING LEAVES T-LIGHT HOLDER</td>\n      <td>7</td>\n      <td>2011-01-20 18:08:00</td>\n      <td>1.63</td>\n      <td>nan</td>\n      <td>United Kingdom</td>\n    </tr>\n    <tr>\n      <th>65871</th>\n      <td>541696</td>\n      <td>90202D</td>\n      <td>PINK ENAMEL FLOWER HAIR TIE</td>\n      <td>2</td>\n      <td>2011-01-20 18:08:00</td>\n      <td>2.90</td>\n      <td>nan</td>\n      <td>United Kingdom</td>\n    </tr>\n    <tr>\n      <th>279599</th>\n      <td>561332</td>\n      <td>22690</td>\n      <td>DOORMAT HOME SWEET HOME BLUE</td>\n      <td>2</td>\n      <td>2011-07-26 14:25:00</td>\n      <td>7.95</td>\n      <td>13492</td>\n      <td>Switzerland</td>\n    </tr>\n    <tr>\n      <th>521091</th>\n      <td>580311</td>\n      <td>22776</td>\n      <td>SWEETHEART 3 TIER CAKE STAND</td>\n      <td>3</td>\n      <td>2011-12-02 14:48:00</td>\n      <td>9.95</td>\n      <td>18245</td>\n      <td>United Kingdom</td>\n    </tr>\n    <tr>\n      <th>279136</th>\n      <td>561241</td>\n      <td>84380</td>\n      <td>SET OF 3 BUTTERFLY COOKIE CUTTERS</td>\n      <td>12</td>\n      <td>2011-07-26 11:00:00</td>\n      <td>1.25</td>\n      <td>13930</td>\n      <td>United Kingdom</td>\n    </tr>\n    <tr>\n      <th>452763</th>\n      <td>575384</td>\n      <td>22941</td>\n      <td>CHRISTMAS LIGHTS 10 REINDEER</td>\n      <td>4</td>\n      <td>2011-11-09 15:17:00</td>\n      <td>8.50</td>\n      <td>17690</td>\n      <td>United Kingdom</td>\n    </tr>\n    <tr>\n      <th>5274</th>\n      <td>536856</td>\n      <td>22748</td>\n      <td>POPPY'S PLAYHOUSE KITCHEN</td>\n      <td>6</td>\n      <td>2010-12-03 10:26:00</td>\n      <td>2.10</td>\n      <td>13370</td>\n      <td>United Kingdom</td>\n    </tr>\n    <tr>\n      <th>450997</th>\n      <td>575177</td>\n      <td>23312</td>\n      <td>VINTAGE CHRISTMAS GIFT SACK</td>\n      <td>1</td>\n      <td>2011-11-08 18:41:00</td>\n      <td>8.29</td>\n      <td>nan</td>\n      <td>United Kingdom</td>\n    </tr>\n    <tr>\n      <th>69852</th>\n      <td>541987</td>\n      <td>22480</td>\n      <td>RED TEA TOWEL CLASSIC DESIGN</td>\n      <td>3</td>\n      <td>2011-01-24 16:05:00</td>\n      <td>1.25</td>\n      <td>14130</td>\n      <td>United Kingdom</td>\n    </tr>\n    <tr>\n      <th>67841</th>\n      <td>541847</td>\n      <td>21171</td>\n      <td>BATHROOM METAL SIGN</td>\n      <td>2</td>\n      <td>2011-01-23 13:25:00</td>\n      <td>1.45</td>\n      <td>15443</td>\n      <td>United Kingdom</td>\n    </tr>\n    <tr>\n      <th>420399</th>\n      <td>572893</td>\n      <td>35819B</td>\n      <td>ACRYLIC HANGING JEWEL,BLUE</td>\n      <td>24</td>\n      <td>2011-10-26 14:36:00</td>\n      <td>0.38</td>\n      <td>18059</td>\n      <td>United Kingdom</td>\n    </tr>\n    <tr>\n      <th>517131</th>\n      <td>580032</td>\n      <td>21328</td>\n      <td>BALLOONS  WRITING SET</td>\n      <td>3</td>\n      <td>2011-12-01 12:17:00</td>\n      <td>1.65</td>\n      <td>14659</td>\n      <td>United Kingdom</td>\n    </tr>\n    <tr>\n      <th>185608</th>\n      <td>552822</td>\n      <td>84912B</td>\n      <td>GREEN ROSE WASHBAG</td>\n      <td>1</td>\n      <td>2011-05-11 12:59:00</td>\n      <td>3.75</td>\n      <td>15521</td>\n      <td>United Kingdom</td>\n    </tr>\n    <tr>\n      <th>427713</th>\n      <td>573396</td>\n      <td>22065</td>\n      <td>CHRISTMAS PUDDING TRINKET POT</td>\n      <td>4</td>\n      <td>2011-10-30 15:13:00</td>\n      <td>0.39</td>\n      <td>14723</td>\n      <td>United Kingdom</td>\n    </tr>\n    <tr>\n      <th>434598</th>\n      <td>574053</td>\n      <td>22077</td>\n      <td>6 RIBBONS RUSTIC CHARM</td>\n      <td>12</td>\n      <td>2011-11-02 14:04:00</td>\n      <td>1.95</td>\n      <td>16379</td>\n      <td>United Kingdom</td>\n    </tr>\n    <tr>\n      <th>429148</th>\n      <td>573545</td>\n      <td>22947</td>\n      <td>WOODEN ADVENT CALENDAR RED</td>\n      <td>6</td>\n      <td>2011-10-31 13:12:00</td>\n      <td>7.95</td>\n      <td>16969</td>\n      <td>United Kingdom</td>\n    </tr>\n    <tr>\n      <th>128549</th>\n      <td>547357</td>\n      <td>22858</td>\n      <td>EASTER TIN KEEPSAKE</td>\n      <td>6</td>\n      <td>2011-03-22 12:15:00</td>\n      <td>1.65</td>\n      <td>17613</td>\n      <td>United Kingdom</td>\n    </tr>\n    <tr>\n      <th>385005</th>\n      <td>570187</td>\n      <td>22424</td>\n      <td>ENAMEL BREAD BIN CREAM</td>\n      <td>1</td>\n      <td>2011-10-07 15:09:00</td>\n      <td>24.96</td>\n      <td>nan</td>\n      <td>United Kingdom</td>\n    </tr>\n    <tr>\n      <th>142424</th>\n      <td>548612</td>\n      <td>22851</td>\n      <td>SET 20 NAPKINS FAIRY CAKES DESIGN</td>\n      <td>1</td>\n      <td>2011-04-01 11:34:00</td>\n      <td>0.85</td>\n      <td>13137</td>\n      <td>United Kingdom</td>\n    </tr>\n    <tr>\n      <th>220090</th>\n      <td>556116</td>\n      <td>82616C</td>\n      <td>MIDNIGHT GLAMOUR SCARF KNITTING KIT</td>\n      <td>12</td>\n      <td>2011-06-09 09:44:00</td>\n      <td>1.25</td>\n      <td>15214</td>\n      <td>United Kingdom</td>\n    </tr>\n    <tr>\n      <th>155277</th>\n      <td>549981</td>\n      <td>22555</td>\n      <td>PLASTERS IN TIN STRONGMAN</td>\n      <td>1</td>\n      <td>2011-04-13 15:49:00</td>\n      <td>1.65</td>\n      <td>16348</td>\n      <td>United Kingdom</td>\n    </tr>\n    <tr>\n      <th>163910</th>\n      <td>550630</td>\n      <td>21394</td>\n      <td>RED POLKADOT BEAKER</td>\n      <td>48</td>\n      <td>2011-04-19 14:49:00</td>\n      <td>0.39</td>\n      <td>14298</td>\n      <td>United Kingdom</td>\n    </tr>\n    <tr>\n      <th>31610</th>\n      <td>538999</td>\n      <td>22798</td>\n      <td>ANTIQUE GLASS DRESSING TABLE POT</td>\n      <td>8</td>\n      <td>2010-12-15 12:09:00</td>\n      <td>2.95</td>\n      <td>16003</td>\n      <td>United Kingdom</td>\n    </tr>\n    <tr>\n      <th>66699</th>\n      <td>541811</td>\n      <td>21035</td>\n      <td>SET/2 RED RETROSPOT TEA TOWELS</td>\n      <td>1</td>\n      <td>2011-01-21 15:01:00</td>\n      <td>5.79</td>\n      <td>nan</td>\n      <td>United Kingdom</td>\n    </tr>\n    <tr>\n      <th>413263</th>\n      <td>572309</td>\n      <td>21993</td>\n      <td>FLORAL FOLK STATIONERY SET</td>\n      <td>4</td>\n      <td>2011-10-23 15:29:00</td>\n      <td>1.25</td>\n      <td>14432</td>\n      <td>United Kingdom</td>\n    </tr>\n    <tr>\n      <th>361517</th>\n      <td>568346</td>\n      <td>23292</td>\n      <td>SPACEBOY CHILDRENS CUP</td>\n      <td>30</td>\n      <td>2011-09-26 15:28:00</td>\n      <td>2.46</td>\n      <td>14096</td>\n      <td>United Kingdom</td>\n    </tr>\n    <tr>\n      <th>183080</th>\n      <td>552642</td>\n      <td>23171</td>\n      <td>REGENCY TEA PLATE GREEN</td>\n      <td>12</td>\n      <td>2011-05-10 13:22:00</td>\n      <td>1.65</td>\n      <td>14288</td>\n      <td>United Kingdom</td>\n    </tr>\n  </tbody>\n</table>\n</div>"
     },
     "execution_count": 98,
     "metadata": {},
     "output_type": "execute_result"
    }
   ],
   "source": [
    "cleaned_data.sample(30)"
   ],
   "metadata": {
    "collapsed": false,
    "ExecuteTime": {
     "end_time": "2024-03-13T09:06:13.245085Z",
     "start_time": "2024-03-13T09:06:12.981132Z"
    }
   },
   "execution_count": 98
  },
  {
   "cell_type": "markdown",
   "source": [
    "## 保存清洗后的数据"
   ],
   "metadata": {
    "collapsed": false
   }
  },
  {
   "cell_type": "code",
   "outputs": [
    {
     "name": "stderr",
     "output_type": "stream",
     "text": [
      "C:\\Users\\CAshely\\AppData\\Local\\Temp\\ipykernel_16768\\1074412508.py:2: DtypeWarning: Columns (0) have mixed types. Specify dtype option on import or set low_memory=False.\n",
      "  df=pd.read_csv(\"e_commerce_cleaned.csv\")\n"
     ]
    }
   ],
   "source": [
    "cleaned_data.to_csv(\"e_commerce_cleaned.csv\", index=False)\n",
    "df=pd.read_csv(\"e_commerce_cleaned.csv\")"
   ],
   "metadata": {
    "collapsed": false,
    "ExecuteTime": {
     "end_time": "2024-03-13T09:06:16.762263200Z",
     "start_time": "2024-03-13T09:06:13.027084800Z"
    }
   },
   "execution_count": 99
  },
  {
   "cell_type": "code",
   "outputs": [
    {
     "data": {
      "text/plain": "Empty DataFrame\nColumns: [InvoiceNo, StockCode, Description, Quantity, InvoiceDate, UnitPrice, CustomerID, Country]\nIndex: []",
      "text/html": "<div>\n<style scoped>\n    .dataframe tbody tr th:only-of-type {\n        vertical-align: middle;\n    }\n\n    .dataframe tbody tr th {\n        vertical-align: top;\n    }\n\n    .dataframe thead th {\n        text-align: right;\n    }\n</style>\n<table border=\"1\" class=\"dataframe\">\n  <thead>\n    <tr style=\"text-align: right;\">\n      <th></th>\n      <th>InvoiceNo</th>\n      <th>StockCode</th>\n      <th>Description</th>\n      <th>Quantity</th>\n      <th>InvoiceDate</th>\n      <th>UnitPrice</th>\n      <th>CustomerID</th>\n      <th>Country</th>\n    </tr>\n  </thead>\n  <tbody>\n  </tbody>\n</table>\n</div>"
     },
     "execution_count": 100,
     "metadata": {},
     "output_type": "execute_result"
    }
   ],
   "source": [
    "df[df[\"Quantity\"]<0]"
   ],
   "metadata": {
    "collapsed": false,
    "ExecuteTime": {
     "end_time": "2024-03-13T09:06:16.773769900Z",
     "start_time": "2024-03-13T09:06:16.763263500Z"
    }
   },
   "execution_count": 100
  },
  {
   "cell_type": "code",
   "outputs": [],
   "source": [],
   "metadata": {
    "collapsed": false,
    "ExecuteTime": {
     "end_time": "2024-03-13T09:06:16.776778Z",
     "start_time": "2024-03-13T09:06:16.772109Z"
    }
   },
   "execution_count": 100
  }
 ],
 "metadata": {
  "kernelspec": {
   "display_name": "Python 3",
   "language": "python",
   "name": "python3"
  },
  "language_info": {
   "codemirror_mode": {
    "name": "ipython",
    "version": 3
   },
   "file_extension": ".py",
   "mimetype": "text/x-python",
   "name": "python",
   "nbconvert_exporter": "python",
   "pygments_lexer": "ipython3",
   "version": "3.8.1"
  }
 },
 "nbformat": 4,
 "nbformat_minor": 4
}
